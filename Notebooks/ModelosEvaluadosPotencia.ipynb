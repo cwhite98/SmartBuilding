{
 "cells": [
  {
   "cell_type": "code",
   "execution_count": 1,
   "metadata": {},
   "outputs": [],
   "source": [
    "import pandas as pd\n",
    "import numpy as np\n",
    "import os\n",
    "import matplotlib.pyplot as plt\n",
    "from sklearn.model_selection import train_test_split\n",
    "from sklearn.model_selection import learning_curve\n",
    "import seaborn as sns\n",
    "from sklearn.metrics import mean_squared_error, r2_score\n",
    "from sklearn.preprocessing import StandardScaler"
   ]
  },
  {
   "cell_type": "code",
   "execution_count": 2,
   "metadata": {},
   "outputs": [],
   "source": [
    "data = pd.read_excel(\"./Datasets/HVAC_limpio.xlsx\", \"HVAC_limpio\", index_col=0)\n",
    "#data"
   ]
  },
  {
   "cell_type": "code",
   "execution_count": 3,
   "metadata": {},
   "outputs": [],
   "source": [
    "data['Fecha- hora de lectura'] = (data['Fecha- hora de lectura'] - data['Fecha- hora de lectura'].min())  / np.timedelta64(1,'D')\n",
    "#data.drop(['Fecha- hora de lectura'], axis=1, inplace=True)"
   ]
  },
  {
   "cell_type": "code",
   "execution_count": 4,
   "metadata": {},
   "outputs": [
    {
     "data": {
      "text/plain": [
       "Index(['Fecha- hora de lectura', 'POTENCIA TRAFO 2', 'POTENCIA TRAFO 3',\n",
       "       'POTENCIA TRAFO 4', 'POTENCIA TRAFO 5', 'POTENCIA MEDIA CONECTADA',\n",
       "       'CONTROL FRÍO', 'POTENCIA BOMBA CALOR FELIPE',\n",
       "       'POTENCIA BOMBA CALOR CARLOS',\n",
       "       'TEMPERATURA AMBIENTE BOMBA CALOR CARLOS',\n",
       "       'TEMPERATURA AMBIENTE BOMBA CALOR FELIPE', 'TEMPERATURA EXTERIOR',\n",
       "       'CAPACIDAD GRUPO DE FRÍO 2', 'POTENCIA GRUPO FRÍO 1',\n",
       "       'POTENCIA GRUPO FRÍO 2', 'ENTRADA AGUA A TORRE 1',\n",
       "       'SALIDA AGUA TORRE 1', 'ENTRADA AGUA A TORRE 2', 'SALIDA AGUA TORRE 2',\n",
       "       'C_O_P MÁQUINA GRUPO FRÍO 1', 'C_O_P MÁQUINA GRUPO FRÍO 2',\n",
       "       'C_O_P BOMBA CALOR CARLOS', 'C_O_P BOMBA CALOR FELIPE',\n",
       "       'TEMPERATURA SALIDA BOMBA CALOR CARLOS',\n",
       "       'TEMPERATURA SALIDA BOMBA CALOR FELIPE',\n",
       "       'KILO CALORÍAS GENERADAS BOMBA CALOR CARLOS',\n",
       "       'KILO CALORÍAS GENERADAS BOMBA CALOR FELIPE',\n",
       "       'KIGO FRIGORÍAS GENERADAS GRUPO DE FRÍO 1',\n",
       "       'KIGO FRIGORÍAS GENERADAS GRUPO DE FRÍO 2',\n",
       "       'POTENCIA TERMICA BOMBA CALOR CARLOS',\n",
       "       'POTENCIA TERMICA BOMBA CALOR FELIPE', 'POTENCIA TERMICA GRUPO FRIO 1',\n",
       "       'POTENCIA TERMICA GRUPO FRIO 2', 'ENERGIA ELECTRICA GRUPO FRIO 1',\n",
       "       'ENERGIA ELECTRICA GRUPO FRIO 2', 'ENERGIA ELECTRICA BOMBA CARLOS',\n",
       "       'ENERGIA ELECTRICA BOMBA FELIPE', 'ENERGIA ELECTRICA TOTAL'],\n",
       "      dtype='object')"
      ]
     },
     "execution_count": 4,
     "metadata": {},
     "output_type": "execute_result"
    }
   ],
   "source": [
    "data.columns"
   ]
  },
  {
   "cell_type": "code",
   "execution_count": 5,
   "metadata": {},
   "outputs": [],
   "source": [
    "def plot_learning_curve(estimator, title, X, y, ylim=None, cv=None, n_jobs=None, train_sizes=np.linspace(.1, 1.0, 5)):\n",
    "    plt.figure()\n",
    "    plt.title(title)\n",
    "    if ylim != None:\n",
    "        plt.ylim(*ylim)\n",
    "    plt.xlabel(\"Training samples\")\n",
    "    plt.ylabel(\"Score\")\n",
    "    train_sizes, train_scores, test_scores = learning_curve(\n",
    "        estimator, X, y, cv=cv, n_jobs=n_jobs, train_sizes=train_sizes)\n",
    "    train_scores_mean = np.mean(train_scores, axis=1)\n",
    "    train_scores_std = np.std(train_scores, axis=1)\n",
    "    test_scores_mean = np.mean(test_scores, axis=1)\n",
    "    test_scores_std = np.std(test_scores, axis=1)\n",
    "    plt.grid()\n",
    "\n",
    "    plt.fill_between(train_sizes, train_scores_mean - train_scores_std,\n",
    "                     train_scores_mean + train_scores_std, alpha=0.1,\n",
    "                     color=\"r\")\n",
    "    plt.fill_between(train_sizes, test_scores_mean - test_scores_std,\n",
    "                     test_scores_mean + test_scores_std, alpha=0.1, color=\"g\")\n",
    "    plt.plot(train_sizes, train_scores_mean, 'o-', color=\"r\",\n",
    "             label=\"Train score\")\n",
    "    plt.plot(train_sizes, test_scores_mean, 'o-', color=\"g\",\n",
    "             label=\"Test score\")\n",
    "\n",
    "    plt.legend(loc=\"best\")\n",
    "    return plt"
   ]
  },
  {
   "cell_type": "markdown",
   "metadata": {},
   "source": [
    "## MLP Regressor"
   ]
  },
  {
   "cell_type": "code",
   "execution_count": 157,
   "metadata": {},
   "outputs": [],
   "source": [
    "from sklearn.neural_network import MLPRegressor\n",
    "\n",
    "def mLPRegressor(X, y):\n",
    "    X_train, X_test, y_train, y_test = train_test_split(X, y, test_size=0.3)\n",
    "    mlp = MLPRegressor(activation='logistic', solver='lbfgs')\n",
    "    mlp.fit(X_train, y_train)\n",
    "    predicts = mlp.predict(X_test)\n",
    "    acc = mlp.score(X_test, y_test)\n",
    "    mse = mean_squared_error(y_test, predicts)\n",
    "    print(\"Accuracy: \", acc)\n",
    "    print(\"MSE: \", mse)\n",
    "    print(\"---------------------------------------\")\n",
    "    #print(predicts.tolist())\n",
    "    #print(y_test.tolist())\n",
    "    return mlp"
   ]
  },
  {
   "cell_type": "code",
   "execution_count": 158,
   "metadata": {},
   "outputs": [
    {
     "name": "stdout",
     "output_type": "stream",
     "text": [
      "Accuracy:  0.9144232199295135\n",
      "MSE:  163.97858569292748\n",
      "---------------------------------------\n"
     ]
    }
   ],
   "source": [
    "X = data[['TEMPERATURA SALIDA BOMBA CALOR CARLOS','POTENCIA TERMICA BOMBA CALOR CARLOS', \n",
    "          'C_O_P BOMBA CALOR CARLOS', 'POTENCIA TRAFO 4','POTENCIA TRAFO 5',\n",
    "          'TEMPERATURA EXTERIOR', 'TEMPERATURA AMBIENTE BOMBA CALOR CARLOS']]\n",
    "y = data['POTENCIA BOMBA CALOR CARLOS']\n",
    "mlpCalorCarlos = mLPRegressor(X, y)"
   ]
  },
  {
   "cell_type": "code",
   "execution_count": 159,
   "metadata": {},
   "outputs": [
    {
     "name": "stdout",
     "output_type": "stream",
     "text": [
      "Accuracy:  0.8806040162665498\n",
      "MSE:  243.64851408530618\n",
      "---------------------------------------\n"
     ]
    }
   ],
   "source": [
    "X = data[['TEMPERATURA SALIDA BOMBA CALOR FELIPE','POTENCIA TERMICA BOMBA CALOR FELIPE', \n",
    "          'C_O_P BOMBA CALOR FELIPE', 'POTENCIA TRAFO 4','POTENCIA TRAFO 5',\n",
    "          'TEMPERATURA EXTERIOR', 'TEMPERATURA AMBIENTE BOMBA CALOR FELIPE' ]]\n",
    "y = data['POTENCIA BOMBA CALOR FELIPE']\n",
    "mlpCalorFelipe = mLPRegressor(X, y)"
   ]
  },
  {
   "cell_type": "code",
   "execution_count": 160,
   "metadata": {},
   "outputs": [
    {
     "name": "stdout",
     "output_type": "stream",
     "text": [
      "Accuracy:  0.6986588426246625\n",
      "MSE:  215.23498926362365\n",
      "---------------------------------------\n"
     ]
    }
   ],
   "source": [
    "X = data[['POTENCIA TERMICA GRUPO FRIO 1', 'ENTRADA AGUA A TORRE 1', 'SALIDA AGUA TORRE 1',\n",
    "          'POTENCIA TRAFO 4', 'POTENCIA TRAFO 5']]\n",
    "y = data['POTENCIA GRUPO FRÍO 1']\n",
    "mlpFrio1 = mLPRegressor(X, y)"
   ]
  },
  {
   "cell_type": "code",
   "execution_count": 161,
   "metadata": {},
   "outputs": [
    {
     "name": "stdout",
     "output_type": "stream",
     "text": [
      "Accuracy:  0.004511904440945402\n",
      "MSE:  809.3185936264903\n",
      "---------------------------------------\n"
     ]
    }
   ],
   "source": [
    "X = data[['POTENCIA TERMICA GRUPO FRIO 2', 'ENTRADA AGUA A TORRE 1', 'SALIDA AGUA TORRE 2',\n",
    "          'POTENCIA TRAFO 4', 'POTENCIA TRAFO 5', 'POTENCIA MEDIA CONECTADA', 'CONTROL FRÍO',\n",
    "          'KIGO FRIGORÍAS GENERADAS GRUPO DE FRÍO 2', 'TEMPERATURA EXTERIOR']]\n",
    "y = data['POTENCIA GRUPO FRÍO 2']\n",
    "mlpGrio1 = mLPRegressor(X, y)"
   ]
  },
  {
   "cell_type": "markdown",
   "metadata": {},
   "source": [
    "## SGD Regressor"
   ]
  },
  {
   "cell_type": "code",
   "execution_count": 162,
   "metadata": {},
   "outputs": [],
   "source": [
    "from sklearn.linear_model import SGDRegressor\n",
    "\n",
    "def sGDRegressor(X, y):\n",
    "    X_train, X_test, y_train, y_test = train_test_split(X, y, test_size=0.3)\n",
    "    clf = SGDRegressor()\n",
    "    clf.fit(X_train, y_train)\n",
    "    predicts = clf.predict(X_test)\n",
    "    acc = clf.score(X_test, y_test)\n",
    "    mse = mean_squared_error(y_test, predicts)\n",
    "    print(\"Accuracy: \", acc)\n",
    "    print(\"MSE: \", mse)\n",
    "    print(\"---------------------------------------\")\n",
    "    #print(predicts.tolist())\n",
    "    return clf"
   ]
  },
  {
   "cell_type": "code",
   "execution_count": 163,
   "metadata": {},
   "outputs": [
    {
     "name": "stdout",
     "output_type": "stream",
     "text": [
      "Accuracy:  -1.1116850616254075e+23\n",
      "MSE:  2.1391588295824012e+26\n",
      "---------------------------------------\n"
     ]
    }
   ],
   "source": [
    "X = data[['TEMPERATURA SALIDA BOMBA CALOR CARLOS','POTENCIA TERMICA BOMBA CALOR CARLOS', \n",
    "          'C_O_P BOMBA CALOR CARLOS', 'POTENCIA TRAFO 4','POTENCIA TRAFO 5',\n",
    "          'TEMPERATURA EXTERIOR', 'TEMPERATURA AMBIENTE BOMBA CALOR CARLOS']]\n",
    "y = data['POTENCIA BOMBA CALOR CARLOS']\n",
    "clfCalorCarlos = sGDRegressor(X, y)"
   ]
  },
  {
   "cell_type": "code",
   "execution_count": 164,
   "metadata": {},
   "outputs": [
    {
     "name": "stdout",
     "output_type": "stream",
     "text": [
      "Accuracy:  -3.017991175877767e+22\n",
      "MSE:  6.07116025751942e+25\n",
      "---------------------------------------\n"
     ]
    }
   ],
   "source": [
    "X = data[['TEMPERATURA SALIDA BOMBA CALOR FELIPE','POTENCIA TERMICA BOMBA CALOR FELIPE', \n",
    "          'C_O_P BOMBA CALOR FELIPE', 'POTENCIA TRAFO 4','POTENCIA TRAFO 5',\n",
    "          'TEMPERATURA EXTERIOR', 'TEMPERATURA AMBIENTE BOMBA CALOR FELIPE' ]]\n",
    "y = data['POTENCIA BOMBA CALOR FELIPE']\n",
    "clfCalorFelipe = sGDRegressor(X, y)"
   ]
  },
  {
   "cell_type": "code",
   "execution_count": 165,
   "metadata": {},
   "outputs": [
    {
     "name": "stdout",
     "output_type": "stream",
     "text": [
      "Accuracy:  -1.9906239379120934e+24\n",
      "MSE:  1.4408052548262501e+27\n",
      "---------------------------------------\n"
     ]
    }
   ],
   "source": [
    "X = data[['POTENCIA TERMICA GRUPO FRIO 1', 'ENTRADA AGUA A TORRE 1', 'SALIDA AGUA TORRE 1',\n",
    "          'POTENCIA TRAFO 4', 'POTENCIA TRAFO 5']]\n",
    "y = data['POTENCIA GRUPO FRÍO 1']\n",
    "clfGrupo1 = sGDRegressor(X, y)"
   ]
  },
  {
   "cell_type": "code",
   "execution_count": 166,
   "metadata": {},
   "outputs": [
    {
     "name": "stdout",
     "output_type": "stream",
     "text": [
      "Accuracy:  -2.1293677234193948e+33\n",
      "MSE:  1.7285671478382134e+36\n",
      "---------------------------------------\n"
     ]
    }
   ],
   "source": [
    "X = data[['POTENCIA TERMICA GRUPO FRIO 2', 'ENTRADA AGUA A TORRE 1', 'SALIDA AGUA TORRE 2',\n",
    "          'POTENCIA TRAFO 4', 'POTENCIA TRAFO 5', 'POTENCIA MEDIA CONECTADA', 'CONTROL FRÍO',\n",
    "          'KIGO FRIGORÍAS GENERADAS GRUPO DE FRÍO 2', 'TEMPERATURA EXTERIOR']]\n",
    "y = data['POTENCIA GRUPO FRÍO 2']\n",
    "clfGrupo2 = sGDRegressor(X, y)"
   ]
  },
  {
   "cell_type": "markdown",
   "metadata": {},
   "source": [
    "## KNeighbors Regressor"
   ]
  },
  {
   "cell_type": "code",
   "execution_count": 168,
   "metadata": {},
   "outputs": [],
   "source": [
    "from sklearn.neighbors import KNeighborsRegressor\n",
    "\n",
    "def kNRegressor(X, y):\n",
    "    X_train, X_test, y_train, y_test = train_test_split(X, y, test_size=0.3)\n",
    "    neigh = KNeighborsRegressor(n_neighbors=10)\n",
    "    neigh.fit(X_train, y_train) \n",
    "    predicts = neigh.predict(X_test)\n",
    "    acc = neigh.score(X_test, y_test)\n",
    "    mse = mean_squared_error(y_test, predicts)\n",
    "    print(\"Accuracy: \", acc)\n",
    "    print(\"MSE: \", mse)\n",
    "    print(\"---------------------------------------\")\n",
    "    #print(predicts.tolist())\n",
    "    #print(y_test.tolist())\n",
    "    return neigh"
   ]
  },
  {
   "cell_type": "code",
   "execution_count": 169,
   "metadata": {},
   "outputs": [
    {
     "name": "stdout",
     "output_type": "stream",
     "text": [
      "Accuracy:  0.9656927574582698\n",
      "MSE:  65.81355759299234\n",
      "---------------------------------------\n"
     ]
    }
   ],
   "source": [
    "X = data[['TEMPERATURA SALIDA BOMBA CALOR CARLOS','POTENCIA TERMICA BOMBA CALOR CARLOS', \n",
    "          'C_O_P BOMBA CALOR CARLOS', 'POTENCIA TRAFO 4','POTENCIA TRAFO 5',\n",
    "          'TEMPERATURA EXTERIOR', 'TEMPERATURA AMBIENTE BOMBA CALOR CARLOS']]\n",
    "y = data['POTENCIA BOMBA CALOR CARLOS']\n",
    "knrCalorCarlos = kNRegressor(X, y)"
   ]
  },
  {
   "cell_type": "code",
   "execution_count": 170,
   "metadata": {},
   "outputs": [
    {
     "name": "stdout",
     "output_type": "stream",
     "text": [
      "Accuracy:  0.9646740022222274\n",
      "MSE:  72.2207299928767\n",
      "---------------------------------------\n"
     ]
    }
   ],
   "source": [
    "X = data[['TEMPERATURA SALIDA BOMBA CALOR FELIPE','POTENCIA TERMICA BOMBA CALOR FELIPE', \n",
    "          'C_O_P BOMBA CALOR FELIPE', 'POTENCIA TRAFO 4','POTENCIA TRAFO 5',\n",
    "          'TEMPERATURA EXTERIOR', 'TEMPERATURA AMBIENTE BOMBA CALOR FELIPE' ]]\n",
    "y = data['POTENCIA BOMBA CALOR FELIPE']\n",
    "knrCalorFelipe = kNRegressor(X, y)"
   ]
  },
  {
   "cell_type": "code",
   "execution_count": 171,
   "metadata": {},
   "outputs": [
    {
     "name": "stdout",
     "output_type": "stream",
     "text": [
      "Accuracy:  0.8776554676192232\n",
      "MSE:  87.56708833429023\n",
      "---------------------------------------\n"
     ]
    }
   ],
   "source": [
    "X = data[['POTENCIA TERMICA GRUPO FRIO 1', 'ENTRADA AGUA A TORRE 1', 'SALIDA AGUA TORRE 1',\n",
    "          'POTENCIA TRAFO 4', 'POTENCIA TRAFO 5', 'POTENCIA MEDIA CONECTADA', 'CONTROL FRÍO',\n",
    "          'KIGO FRIGORÍAS GENERADAS GRUPO DE FRÍO 1', 'TEMPERATURA EXTERIOR']]\n",
    "y = data['POTENCIA GRUPO FRÍO 1']\n",
    "knrGrupo1 = kNRegressor(X, y)"
   ]
  },
  {
   "cell_type": "code",
   "execution_count": 172,
   "metadata": {},
   "outputs": [
    {
     "name": "stdout",
     "output_type": "stream",
     "text": [
      "Accuracy:  0.9497885561012611\n",
      "MSE:  40.85149691643758\n",
      "---------------------------------------\n"
     ]
    }
   ],
   "source": [
    "X = data[['POTENCIA TERMICA GRUPO FRIO 2', 'ENTRADA AGUA A TORRE 1', 'SALIDA AGUA TORRE 2',\n",
    "          'POTENCIA TRAFO 4', 'POTENCIA TRAFO 5', 'POTENCIA MEDIA CONECTADA', 'CONTROL FRÍO',\n",
    "          'KIGO FRIGORÍAS GENERADAS GRUPO DE FRÍO 2', 'TEMPERATURA EXTERIOR']]\n",
    "y = data['POTENCIA GRUPO FRÍO 2']\n",
    "knrGrupo2 = kNRegressor(X, y)"
   ]
  },
  {
   "cell_type": "markdown",
   "metadata": {},
   "source": [
    "## Gradient Boosting Regressor"
   ]
  },
  {
   "cell_type": "code",
   "execution_count": 173,
   "metadata": {},
   "outputs": [],
   "source": [
    "from sklearn.ensemble import GradientBoostingRegressor\n",
    "\n",
    "def gradientBoostingRegressor(X, y):\n",
    "    X_train, X_test, y_train, y_test = train_test_split(X, y, test_size=0.3)\n",
    "    est = GradientBoostingRegressor()\n",
    "    est.fit(X_train, y_train)\n",
    "    predicts = est.predict(X_test)\n",
    "    acc = est.score(X_test, y_test)\n",
    "    mse = mean_squared_error(y_test, predicts)\n",
    "    print(\"Accuracy: \", acc)\n",
    "    print(\"MSE: \", mse)\n",
    "    print(\"---------------------------------------\")\n",
    "    #print(predicts.tolist())\n",
    "    #print(y_test.tolist())\n",
    "    return est"
   ]
  },
  {
   "cell_type": "code",
   "execution_count": 174,
   "metadata": {},
   "outputs": [
    {
     "name": "stdout",
     "output_type": "stream",
     "text": [
      "Accuracy:  0.9786826734969578\n",
      "MSE:  40.957025810896226\n",
      "---------------------------------------\n"
     ]
    }
   ],
   "source": [
    "X = data[['TEMPERATURA SALIDA BOMBA CALOR CARLOS','POTENCIA TERMICA BOMBA CALOR CARLOS', \n",
    "          'C_O_P BOMBA CALOR CARLOS', 'POTENCIA TRAFO 4','POTENCIA TRAFO 5',\n",
    "          'TEMPERATURA EXTERIOR', 'TEMPERATURA AMBIENTE BOMBA CALOR CARLOS']]\n",
    "y = data['POTENCIA BOMBA CALOR CARLOS']\n",
    "estCalorCarlos = gradientBoostingRegressor(X, y)"
   ]
  },
  {
   "cell_type": "code",
   "execution_count": 175,
   "metadata": {},
   "outputs": [
    {
     "name": "stdout",
     "output_type": "stream",
     "text": [
      "Accuracy:  0.9639569380193129\n",
      "MSE:  72.52505221190981\n",
      "---------------------------------------\n"
     ]
    }
   ],
   "source": [
    "X = data[['TEMPERATURA SALIDA BOMBA CALOR FELIPE','POTENCIA TERMICA BOMBA CALOR FELIPE', \n",
    "          'C_O_P BOMBA CALOR FELIPE', 'POTENCIA TRAFO 4','POTENCIA TRAFO 5',\n",
    "          'TEMPERATURA EXTERIOR', 'TEMPERATURA AMBIENTE BOMBA CALOR FELIPE' ]]\n",
    "y = data['POTENCIA BOMBA CALOR FELIPE']\n",
    "estCalorFelipe = gradientBoostingRegressor(X, y)"
   ]
  },
  {
   "cell_type": "code",
   "execution_count": 176,
   "metadata": {},
   "outputs": [
    {
     "name": "stdout",
     "output_type": "stream",
     "text": [
      "Accuracy:  0.9181038459757389\n",
      "MSE:  58.98735452345555\n",
      "---------------------------------------\n"
     ]
    }
   ],
   "source": [
    "X = data[['POTENCIA TERMICA GRUPO FRIO 1', 'ENTRADA AGUA A TORRE 1', 'SALIDA AGUA TORRE 1',\n",
    "          'POTENCIA TRAFO 4', 'POTENCIA TRAFO 5', 'POTENCIA MEDIA CONECTADA', 'CONTROL FRÍO',\n",
    "          'KIGO FRIGORÍAS GENERADAS GRUPO DE FRÍO 1', 'TEMPERATURA EXTERIOR']]\n",
    "y = data['POTENCIA GRUPO FRÍO 1']\n",
    "estGrupo1 = gradientBoostingRegressor(X, y)"
   ]
  },
  {
   "cell_type": "code",
   "execution_count": 177,
   "metadata": {},
   "outputs": [
    {
     "name": "stdout",
     "output_type": "stream",
     "text": [
      "Accuracy:  0.9493021631258106\n",
      "MSE:  41.66168224737247\n",
      "---------------------------------------\n"
     ]
    }
   ],
   "source": [
    "X = data[['POTENCIA TERMICA GRUPO FRIO 2', 'ENTRADA AGUA A TORRE 1', 'SALIDA AGUA TORRE 2',\n",
    "          'POTENCIA TRAFO 4', 'POTENCIA TRAFO 5', 'POTENCIA MEDIA CONECTADA', 'CONTROL FRÍO',\n",
    "          'KIGO FRIGORÍAS GENERADAS GRUPO DE FRÍO 2', 'TEMPERATURA EXTERIOR']]\n",
    "y = data['POTENCIA GRUPO FRÍO 2']\n",
    "estGrupo2 = gradientBoostingRegressor(X, y)"
   ]
  },
  {
   "cell_type": "markdown",
   "metadata": {},
   "source": [
    "## Ranfom Forest Regressor"
   ]
  },
  {
   "cell_type": "code",
   "execution_count": 178,
   "metadata": {},
   "outputs": [],
   "source": [
    "from sklearn.ensemble import RandomForestRegressor\n",
    "\n",
    "def randomForestRegressor(X, y):\n",
    "    X_train, X_test, y_train, y_test = train_test_split(X, y, test_size=0.3)\n",
    "    regr = RandomForestRegressor(n_estimators=10)\n",
    "    regr.fit(X_train, y_train)\n",
    "    predicts = regr.predict(X_test)\n",
    "    acc = regr.score(X_test, y_test)\n",
    "    mse = mean_squared_error(y_test, predicts)\n",
    "    r2 = r2_score(y_test, predicts) \n",
    "    print(\"Accuracy: \", acc)\n",
    "    print(\"MSE: \", mse)\n",
    "    print(\"R2: \", r2)\n",
    "    print(\"---------------------------------------\")\n",
    "    #print(predicts.tolist())\n",
    "    #print(y_test.tolist())\n",
    "    return regr"
   ]
  },
  {
   "cell_type": "code",
   "execution_count": 179,
   "metadata": {},
   "outputs": [
    {
     "name": "stdout",
     "output_type": "stream",
     "text": [
      "Accuracy:  0.9917830325606767\n",
      "MSE:  15.849832611849141\n",
      "R2:  0.9917830325606766\n",
      "---------------------------------------\n"
     ]
    }
   ],
   "source": [
    "X = data[['TEMPERATURA SALIDA BOMBA CALOR CARLOS','POTENCIA TERMICA BOMBA CALOR CARLOS', \n",
    "          'C_O_P BOMBA CALOR CARLOS', 'POTENCIA TRAFO 4','POTENCIA TRAFO 5',\n",
    "          'TEMPERATURA EXTERIOR', 'TEMPERATURA AMBIENTE BOMBA CALOR CARLOS' ]]\n",
    "y = data['POTENCIA BOMBA CALOR CARLOS']\n",
    "regrCalorCarlos = randomForestRegressor(X, y)"
   ]
  },
  {
   "cell_type": "code",
   "execution_count": 180,
   "metadata": {},
   "outputs": [
    {
     "name": "stdout",
     "output_type": "stream",
     "text": [
      "Accuracy:  0.9864096117775011\n",
      "MSE:  28.062117775692315\n",
      "R2:  0.9864096117775011\n",
      "---------------------------------------\n"
     ]
    }
   ],
   "source": [
    "X = data[['TEMPERATURA SALIDA BOMBA CALOR FELIPE','POTENCIA TERMICA BOMBA CALOR FELIPE', \n",
    "          'C_O_P BOMBA CALOR FELIPE', 'POTENCIA TRAFO 4','POTENCIA TRAFO 5',\n",
    "          'TEMPERATURA EXTERIOR', 'TEMPERATURA AMBIENTE BOMBA CALOR FELIPE' ]]\n",
    "y = data['POTENCIA BOMBA CALOR FELIPE']\n",
    "regrCalorFelipe = randomForestRegressor(X, y)"
   ]
  },
  {
   "cell_type": "code",
   "execution_count": 181,
   "metadata": {},
   "outputs": [
    {
     "name": "stdout",
     "output_type": "stream",
     "text": [
      "Accuracy:  0.9752901957487665\n",
      "MSE:  17.724885325218203\n",
      "R2:  0.9752901957487665\n",
      "---------------------------------------\n"
     ]
    }
   ],
   "source": [
    "X = data[['POTENCIA TERMICA GRUPO FRIO 1', 'ENTRADA AGUA A TORRE 1', 'SALIDA AGUA TORRE 1',\n",
    "          'POTENCIA TRAFO 4', 'POTENCIA TRAFO 5', 'POTENCIA MEDIA CONECTADA', 'CONTROL FRÍO',\n",
    "          'KIGO FRIGORÍAS GENERADAS GRUPO DE FRÍO 1', 'TEMPERATURA EXTERIOR']]\n",
    "y = data['POTENCIA GRUPO FRÍO 1']\n",
    "regrGrupo1 = randomForestRegressor(X, y)"
   ]
  },
  {
   "cell_type": "code",
   "execution_count": 182,
   "metadata": {},
   "outputs": [
    {
     "name": "stdout",
     "output_type": "stream",
     "text": [
      "Accuracy:  0.9873926118393384\n",
      "MSE:  10.242829387066246\n",
      "R2:  0.9873926118393385\n",
      "---------------------------------------\n"
     ]
    }
   ],
   "source": [
    "X = data[['POTENCIA TERMICA GRUPO FRIO 2', 'ENTRADA AGUA A TORRE 1', 'SALIDA AGUA TORRE 2',\n",
    "          'POTENCIA TRAFO 4', 'POTENCIA TRAFO 5', 'POTENCIA MEDIA CONECTADA', 'CONTROL FRÍO',\n",
    "          'KIGO FRIGORÍAS GENERADAS GRUPO DE FRÍO 2', 'TEMPERATURA EXTERIOR']]\n",
    "y = data['POTENCIA GRUPO FRÍO 2']\n",
    "regrGrupo2 = randomForestRegressor(X, y)"
   ]
  },
  {
   "cell_type": "code",
   "execution_count": null,
   "metadata": {},
   "outputs": [],
   "source": []
  }
 ],
 "metadata": {
  "kernelspec": {
   "display_name": "Python 3",
   "language": "python",
   "name": "python3"
  },
  "language_info": {
   "codemirror_mode": {
    "name": "ipython",
    "version": 3
   },
   "file_extension": ".py",
   "mimetype": "text/x-python",
   "name": "python",
   "nbconvert_exporter": "python",
   "pygments_lexer": "ipython3",
   "version": "3.7.3"
  }
 },
 "nbformat": 4,
 "nbformat_minor": 2
}
