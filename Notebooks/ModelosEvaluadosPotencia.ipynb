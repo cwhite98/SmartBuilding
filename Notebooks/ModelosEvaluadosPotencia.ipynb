{
 "cells": [
  {
   "cell_type": "code",
   "execution_count": 2,
   "metadata": {},
   "outputs": [],
   "source": [
    "import pandas as pd\n",
    "import numpy as np\n",
    "from sklearn.model_selection import train_test_split\n",
    "from sklearn.metrics import mean_squared_error"
   ]
  },
  {
   "cell_type": "code",
   "execution_count": 7,
   "metadata": {},
   "outputs": [],
   "source": [
    "data = pd.read_excel(\"../Datasets/HVAC_limpio.xlsx\", \"HVAC_limpio\", index_col=0)\n",
    "#data"
   ]
  },
  {
   "cell_type": "code",
   "execution_count": 8,
   "metadata": {},
   "outputs": [],
   "source": [
    "data['Fecha- hora de lectura'] = (data['Fecha- hora de lectura'] - data['Fecha- hora de lectura'].min())  / np.timedelta64(1,'D')\n",
    "#data.drop(['Fecha- hora de lectura'], axis=1, inplace=True)"
   ]
  },
  {
   "cell_type": "code",
   "execution_count": 9,
   "metadata": {},
   "outputs": [
    {
     "data": {
      "text/plain": [
       "Index(['Fecha- hora de lectura', 'POTENCIA TRAFO 2', 'POTENCIA TRAFO 3',\n",
       "       'POTENCIA TRAFO 4', 'POTENCIA TRAFO 5', 'POTENCIA MEDIA CONECTADA',\n",
       "       'CONTROL FRÍO', 'POTENCIA BOMBA CALOR FELIPE',\n",
       "       'POTENCIA BOMBA CALOR CARLOS',\n",
       "       'TEMPERATURA AMBIENTE BOMBA CALOR CARLOS',\n",
       "       'TEMPERATURA AMBIENTE BOMBA CALOR FELIPE', 'TEMPERATURA EXTERIOR',\n",
       "       'CAPACIDAD GRUPO DE FRÍO 2', 'POTENCIA GRUPO FRÍO 1',\n",
       "       'POTENCIA GRUPO FRÍO 2', 'ENTRADA AGUA A TORRE 1',\n",
       "       'SALIDA AGUA TORRE 1', 'ENTRADA AGUA A TORRE 2', 'SALIDA AGUA TORRE 2',\n",
       "       'C_O_P MÁQUINA GRUPO FRÍO 1', 'C_O_P MÁQUINA GRUPO FRÍO 2',\n",
       "       'C_O_P BOMBA CALOR CARLOS', 'C_O_P BOMBA CALOR FELIPE',\n",
       "       'TEMPERATURA SALIDA BOMBA CALOR CARLOS',\n",
       "       'TEMPERATURA SALIDA BOMBA CALOR FELIPE',\n",
       "       'KILO CALORÍAS GENERADAS BOMBA CALOR CARLOS',\n",
       "       'KILO CALORÍAS GENERADAS BOMBA CALOR FELIPE',\n",
       "       'KIGO FRIGORÍAS GENERADAS GRUPO DE FRÍO 1',\n",
       "       'KIGO FRIGORÍAS GENERADAS GRUPO DE FRÍO 2',\n",
       "       'POTENCIA TERMICA BOMBA CALOR CARLOS',\n",
       "       'POTENCIA TERMICA BOMBA CALOR FELIPE', 'POTENCIA TERMICA GRUPO FRIO 1',\n",
       "       'POTENCIA TERMICA GRUPO FRIO 2', 'ENERGIA ELECTRICA GRUPO FRIO 1',\n",
       "       'ENERGIA ELECTRICA GRUPO FRIO 2', 'ENERGIA ELECTRICA BOMBA CARLOS',\n",
       "       'ENERGIA ELECTRICA BOMBA FELIPE', 'ENERGIA ELECTRICA TOTAL'],\n",
       "      dtype='object')"
      ]
     },
     "execution_count": 9,
     "metadata": {},
     "output_type": "execute_result"
    }
   ],
   "source": [
    "data.columns"
   ]
  },
  {
   "cell_type": "markdown",
   "metadata": {},
   "source": [
    "## MLP Regressor"
   ]
  },
  {
   "cell_type": "code",
   "execution_count": 6,
   "metadata": {},
   "outputs": [],
   "source": [
    "from sklearn.neural_network import MLPRegressor\n",
    "\n",
    "def mLPRegressor(X, y):\n",
    "    X_train, X_test, y_train, y_test = train_test_split(X, y, test_size=0.3)\n",
    "    mlp = MLPRegressor(activation='logistic', solver='lbfgs')\n",
    "    mlp.fit(X_train, y_train)\n",
    "    predicts = mlp.predict(X_test)\n",
    "    acc = mlp.score(X_test, y_test)\n",
    "    mse = mean_squared_error(y_test, predicts)\n",
    "    print(\"Accuracy: \", acc)\n",
    "    print(\"MSE: \", mse)\n",
    "    print(\"---------------------------------------\")\n",
    "    #print(predicts.tolist())\n",
    "    #print(y_test.tolist())\n",
    "    return mlp"
   ]
  },
  {
   "cell_type": "code",
   "execution_count": 7,
   "metadata": {},
   "outputs": [
    {
     "name": "stdout",
     "output_type": "stream",
     "text": [
      "Accuracy:  0.9119617431710721\n",
      "MSE:  168.01105326658555\n",
      "---------------------------------------\n"
     ]
    }
   ],
   "source": [
    "X = data[['TEMPERATURA SALIDA BOMBA CALOR CARLOS','POTENCIA TERMICA BOMBA CALOR CARLOS', \n",
    "          'C_O_P BOMBA CALOR CARLOS', 'POTENCIA TRAFO 4','POTENCIA TRAFO 5',\n",
    "          'TEMPERATURA EXTERIOR', 'TEMPERATURA AMBIENTE BOMBA CALOR CARLOS']]\n",
    "y = data['POTENCIA BOMBA CALOR CARLOS']\n",
    "mlpCalorCarlos = mLPRegressor(X, y)"
   ]
  },
  {
   "cell_type": "code",
   "execution_count": 8,
   "metadata": {},
   "outputs": [
    {
     "name": "stdout",
     "output_type": "stream",
     "text": [
      "Accuracy:  0.8825069187943022\n",
      "MSE:  238.98916411297188\n",
      "---------------------------------------\n"
     ]
    }
   ],
   "source": [
    "X = data[['TEMPERATURA SALIDA BOMBA CALOR FELIPE','POTENCIA TERMICA BOMBA CALOR FELIPE', \n",
    "          'C_O_P BOMBA CALOR FELIPE', 'POTENCIA TRAFO 4','POTENCIA TRAFO 5',\n",
    "          'TEMPERATURA EXTERIOR', 'TEMPERATURA AMBIENTE BOMBA CALOR FELIPE' ]]\n",
    "y = data['POTENCIA BOMBA CALOR FELIPE']\n",
    "mlpCalorFelipe = mLPRegressor(X, y)"
   ]
  },
  {
   "cell_type": "code",
   "execution_count": 9,
   "metadata": {},
   "outputs": [
    {
     "name": "stdout",
     "output_type": "stream",
     "text": [
      "Accuracy:  0.7452173941525755\n",
      "MSE:  184.60371671508406\n",
      "---------------------------------------\n"
     ]
    }
   ],
   "source": [
    "X = data[['POTENCIA TERMICA GRUPO FRIO 1', 'ENTRADA AGUA A TORRE 1', 'SALIDA AGUA TORRE 1',\n",
    "          'POTENCIA TRAFO 4', 'POTENCIA TRAFO 5']]\n",
    "y = data['POTENCIA GRUPO FRÍO 1']\n",
    "mlpFrio1 = mLPRegressor(X, y)"
   ]
  },
  {
   "cell_type": "code",
   "execution_count": 11,
   "metadata": {},
   "outputs": [
    {
     "name": "stdout",
     "output_type": "stream",
     "text": [
      "Accuracy:  0.002098679737490783\n",
      "MSE:  803.1488000721348\n",
      "---------------------------------------\n"
     ]
    }
   ],
   "source": [
    "X = data[['POTENCIA TERMICA GRUPO FRIO 2', 'ENTRADA AGUA A TORRE 1', 'SALIDA AGUA TORRE 2',\n",
    "          'POTENCIA TRAFO 4', 'POTENCIA TRAFO 5', 'POTENCIA MEDIA CONECTADA', 'CONTROL FRÍO',\n",
    "          'KIGO FRIGORÍAS GENERADAS GRUPO DE FRÍO 2', 'TEMPERATURA EXTERIOR']]\n",
    "y = data['POTENCIA GRUPO FRÍO 2']\n",
    "mlpGrio2 = mLPRegressor(X, y)"
   ]
  },
  {
   "cell_type": "markdown",
   "metadata": {},
   "source": [
    "## KNeighbors Regressor"
   ]
  },
  {
   "cell_type": "code",
   "execution_count": 17,
   "metadata": {},
   "outputs": [],
   "source": [
    "from sklearn.neighbors import KNeighborsRegressor\n",
    "\n",
    "def kNRegressor(X, y):\n",
    "    X_train, X_test, y_train, y_test = train_test_split(X, y, test_size=0.3)\n",
    "    neigh = KNeighborsRegressor(n_neighbors=10)\n",
    "    neigh.fit(X_train, y_train) \n",
    "    predicts = neigh.predict(X_test)\n",
    "    acc = neigh.score(X_test, y_test)\n",
    "    mse = mean_squared_error(y_test, predicts)\n",
    "    print(\"Accuracy: \", acc)\n",
    "    print(\"MSE: \", mse)\n",
    "    print(\"---------------------------------------\")\n",
    "    #print(predicts.tolist())\n",
    "    #print(y_test.tolist())\n",
    "    return neigh"
   ]
  },
  {
   "cell_type": "code",
   "execution_count": 18,
   "metadata": {},
   "outputs": [
    {
     "name": "stdout",
     "output_type": "stream",
     "text": [
      "Accuracy:  0.9610123934201441\n",
      "MSE:  73.43891046647897\n",
      "---------------------------------------\n"
     ]
    }
   ],
   "source": [
    "X = data[['TEMPERATURA SALIDA BOMBA CALOR CARLOS','POTENCIA TERMICA BOMBA CALOR CARLOS', \n",
    "          'C_O_P BOMBA CALOR CARLOS', 'POTENCIA TRAFO 4','POTENCIA TRAFO 5',\n",
    "          'TEMPERATURA EXTERIOR', 'TEMPERATURA AMBIENTE BOMBA CALOR CARLOS']]\n",
    "y = data['POTENCIA BOMBA CALOR CARLOS']\n",
    "knrCalorCarlos = kNRegressor(X, y)"
   ]
  },
  {
   "cell_type": "code",
   "execution_count": 19,
   "metadata": {},
   "outputs": [
    {
     "name": "stdout",
     "output_type": "stream",
     "text": [
      "Accuracy:  0.9619122908619349\n",
      "MSE:  77.43798088346323\n",
      "---------------------------------------\n"
     ]
    }
   ],
   "source": [
    "X = data[['TEMPERATURA SALIDA BOMBA CALOR FELIPE','POTENCIA TERMICA BOMBA CALOR FELIPE', \n",
    "          'C_O_P BOMBA CALOR FELIPE', 'POTENCIA TRAFO 4','POTENCIA TRAFO 5',\n",
    "          'TEMPERATURA EXTERIOR', 'TEMPERATURA AMBIENTE BOMBA CALOR FELIPE' ]]\n",
    "y = data['POTENCIA BOMBA CALOR FELIPE']\n",
    "knrCalorFelipe = kNRegressor(X, y)"
   ]
  },
  {
   "cell_type": "code",
   "execution_count": 20,
   "metadata": {},
   "outputs": [
    {
     "name": "stdout",
     "output_type": "stream",
     "text": [
      "Accuracy:  0.8783467573894127\n",
      "MSE:  87.53678519724218\n",
      "---------------------------------------\n"
     ]
    }
   ],
   "source": [
    "X = data[['POTENCIA TERMICA GRUPO FRIO 1', 'ENTRADA AGUA A TORRE 1', 'SALIDA AGUA TORRE 1',\n",
    "          'POTENCIA TRAFO 4', 'POTENCIA TRAFO 5', 'POTENCIA MEDIA CONECTADA', 'CONTROL FRÍO',\n",
    "          'KIGO FRIGORÍAS GENERADAS GRUPO DE FRÍO 1', 'TEMPERATURA EXTERIOR']]\n",
    "y = data['POTENCIA GRUPO FRÍO 1']\n",
    "knrGrupo1 = kNRegressor(X, y)"
   ]
  },
  {
   "cell_type": "code",
   "execution_count": 21,
   "metadata": {},
   "outputs": [
    {
     "name": "stdout",
     "output_type": "stream",
     "text": [
      "Accuracy:  0.9525545606776434\n",
      "MSE:  38.7061211470279\n",
      "---------------------------------------\n"
     ]
    }
   ],
   "source": [
    "X = data[['POTENCIA TERMICA GRUPO FRIO 2', 'ENTRADA AGUA A TORRE 1', 'SALIDA AGUA TORRE 2',\n",
    "          'POTENCIA TRAFO 4', 'POTENCIA TRAFO 5', 'POTENCIA MEDIA CONECTADA', 'CONTROL FRÍO',\n",
    "          'KIGO FRIGORÍAS GENERADAS GRUPO DE FRÍO 2', 'TEMPERATURA EXTERIOR']]\n",
    "y = data['POTENCIA GRUPO FRÍO 2']\n",
    "knrGrupo2 = kNRegressor(X, y)"
   ]
  },
  {
   "cell_type": "markdown",
   "metadata": {},
   "source": [
    "## Gradient Boosting Regressor"
   ]
  },
  {
   "cell_type": "code",
   "execution_count": 22,
   "metadata": {},
   "outputs": [],
   "source": [
    "from sklearn.ensemble import GradientBoostingRegressor\n",
    "\n",
    "def gradientBoostingRegressor(X, y):\n",
    "    X_train, X_test, y_train, y_test = train_test_split(X, y, test_size=0.3)\n",
    "    est = GradientBoostingRegressor()\n",
    "    est.fit(X_train, y_train)\n",
    "    predicts = est.predict(X_test)\n",
    "    acc = est.score(X_test, y_test)\n",
    "    mse = mean_squared_error(y_test, predicts)\n",
    "    print(\"Accuracy: \", acc)\n",
    "    print(\"MSE: \", mse)\n",
    "    print(\"---------------------------------------\")\n",
    "    #print(predicts.tolist())\n",
    "    #print(y_test.tolist())\n",
    "    return est"
   ]
  },
  {
   "cell_type": "code",
   "execution_count": 23,
   "metadata": {},
   "outputs": [
    {
     "name": "stdout",
     "output_type": "stream",
     "text": [
      "Accuracy:  0.9776484855459229\n",
      "MSE:  43.24204664838774\n",
      "---------------------------------------\n"
     ]
    }
   ],
   "source": [
    "X = data[['TEMPERATURA SALIDA BOMBA CALOR CARLOS','POTENCIA TERMICA BOMBA CALOR CARLOS', \n",
    "          'C_O_P BOMBA CALOR CARLOS', 'POTENCIA TRAFO 4','POTENCIA TRAFO 5',\n",
    "          'TEMPERATURA EXTERIOR', 'TEMPERATURA AMBIENTE BOMBA CALOR CARLOS']]\n",
    "y = data['POTENCIA BOMBA CALOR CARLOS']\n",
    "estCalorCarlos = gradientBoostingRegressor(X, y)"
   ]
  },
  {
   "cell_type": "code",
   "execution_count": 24,
   "metadata": {},
   "outputs": [
    {
     "name": "stdout",
     "output_type": "stream",
     "text": [
      "Accuracy:  0.9654990217822357\n",
      "MSE:  71.09888740489949\n",
      "---------------------------------------\n"
     ]
    }
   ],
   "source": [
    "X = data[['TEMPERATURA SALIDA BOMBA CALOR FELIPE','POTENCIA TERMICA BOMBA CALOR FELIPE', \n",
    "          'C_O_P BOMBA CALOR FELIPE', 'POTENCIA TRAFO 4','POTENCIA TRAFO 5',\n",
    "          'TEMPERATURA EXTERIOR', 'TEMPERATURA AMBIENTE BOMBA CALOR FELIPE' ]]\n",
    "y = data['POTENCIA BOMBA CALOR FELIPE']\n",
    "estCalorFelipe = gradientBoostingRegressor(X, y)"
   ]
  },
  {
   "cell_type": "code",
   "execution_count": 25,
   "metadata": {},
   "outputs": [
    {
     "name": "stdout",
     "output_type": "stream",
     "text": [
      "Accuracy:  0.9198103700533116\n",
      "MSE:  59.074795103602874\n",
      "---------------------------------------\n"
     ]
    }
   ],
   "source": [
    "X = data[['POTENCIA TERMICA GRUPO FRIO 1', 'ENTRADA AGUA A TORRE 1', 'SALIDA AGUA TORRE 1',\n",
    "          'POTENCIA TRAFO 4', 'POTENCIA TRAFO 5', 'POTENCIA MEDIA CONECTADA', 'CONTROL FRÍO',\n",
    "          'KIGO FRIGORÍAS GENERADAS GRUPO DE FRÍO 1', 'TEMPERATURA EXTERIOR']]\n",
    "y = data['POTENCIA GRUPO FRÍO 1']\n",
    "estGrupo1 = gradientBoostingRegressor(X, y)"
   ]
  },
  {
   "cell_type": "code",
   "execution_count": 26,
   "metadata": {},
   "outputs": [
    {
     "name": "stdout",
     "output_type": "stream",
     "text": [
      "Accuracy:  0.9507081841964573\n",
      "MSE:  40.23597281788882\n",
      "---------------------------------------\n"
     ]
    }
   ],
   "source": [
    "X = data[['POTENCIA TERMICA GRUPO FRIO 2', 'ENTRADA AGUA A TORRE 1', 'SALIDA AGUA TORRE 2',\n",
    "          'POTENCIA TRAFO 4', 'POTENCIA TRAFO 5', 'POTENCIA MEDIA CONECTADA', 'CONTROL FRÍO',\n",
    "          'KIGO FRIGORÍAS GENERADAS GRUPO DE FRÍO 2', 'TEMPERATURA EXTERIOR']]\n",
    "y = data['POTENCIA GRUPO FRÍO 2']\n",
    "estGrupo2 = gradientBoostingRegressor(X, y)"
   ]
  },
  {
   "cell_type": "markdown",
   "metadata": {},
   "source": [
    "## Ranfom Forest Regressor"
   ]
  },
  {
   "cell_type": "code",
   "execution_count": 10,
   "metadata": {},
   "outputs": [],
   "source": [
    "from sklearn.ensemble import RandomForestRegressor\n",
    "\n",
    "def randomForestRegressor(X, y):\n",
    "    X_train, X_test, y_train, y_test = train_test_split(X, y, test_size=0.3)\n",
    "    regr = RandomForestRegressor(n_estimators=10)\n",
    "    regr.fit(X_train, y_train)\n",
    "    predicts = regr.predict(X_test)\n",
    "    acc = regr.score(X_test, y_test)\n",
    "    mse = mean_squared_error(y_test, predicts)\n",
    "    print(\"Accuracy: \", acc)\n",
    "    print(\"MSE: \", mse)\n",
    "    print(\"---------------------------------------\")\n",
    "    #print(predicts.tolist())\n",
    "    #print(y_test.tolist())\n",
    "    return regr"
   ]
  },
  {
   "cell_type": "code",
   "execution_count": 35,
   "metadata": {},
   "outputs": [
    {
     "name": "stdout",
     "output_type": "stream",
     "text": [
      "Accuracy:  0.9916611979341335\n",
      "MSE:  15.801569587463376\n",
      "---------------------------------------\n"
     ]
    }
   ],
   "source": [
    "X = data[['TEMPERATURA SALIDA BOMBA CALOR CARLOS','POTENCIA TERMICA BOMBA CALOR CARLOS', \n",
    "          'C_O_P BOMBA CALOR CARLOS', 'POTENCIA TRAFO 4','POTENCIA TRAFO 5',\n",
    "          'TEMPERATURA EXTERIOR', 'TEMPERATURA AMBIENTE BOMBA CALOR CARLOS' ]]\n",
    "y = data['POTENCIA BOMBA CALOR CARLOS']\n",
    "regrCalorCarlos = randomForestRegressor(X, y)"
   ]
  },
  {
   "cell_type": "code",
   "execution_count": 36,
   "metadata": {},
   "outputs": [
    {
     "name": "stdout",
     "output_type": "stream",
     "text": [
      "Accuracy:  0.9886539836831542\n",
      "MSE:  23.040351887797005\n",
      "---------------------------------------\n"
     ]
    }
   ],
   "source": [
    "X = data[['TEMPERATURA SALIDA BOMBA CALOR FELIPE','POTENCIA TERMICA BOMBA CALOR FELIPE', \n",
    "          'C_O_P BOMBA CALOR FELIPE', 'POTENCIA TRAFO 4','POTENCIA TRAFO 5',\n",
    "          'TEMPERATURA EXTERIOR', 'TEMPERATURA AMBIENTE BOMBA CALOR FELIPE' ]]\n",
    "y = data['POTENCIA BOMBA CALOR FELIPE']\n",
    "regrCalorFelipe = randomForestRegressor(X, y)"
   ]
  },
  {
   "cell_type": "code",
   "execution_count": 37,
   "metadata": {},
   "outputs": [
    {
     "name": "stdout",
     "output_type": "stream",
     "text": [
      "Accuracy:  0.9738144940238942\n",
      "MSE:  18.650147277927246\n",
      "---------------------------------------\n"
     ]
    }
   ],
   "source": [
    "X = data[['POTENCIA TERMICA GRUPO FRIO 1', 'ENTRADA AGUA A TORRE 1', 'SALIDA AGUA TORRE 1',\n",
    "          'POTENCIA TRAFO 4', 'POTENCIA TRAFO 5', 'POTENCIA MEDIA CONECTADA', 'CONTROL FRÍO',\n",
    "          'KIGO FRIGORÍAS GENERADAS GRUPO DE FRÍO 1', 'TEMPERATURA EXTERIOR']]\n",
    "y = data['POTENCIA GRUPO FRÍO 1']\n",
    "regrGrupo1 = randomForestRegressor(X, y)"
   ]
  },
  {
   "cell_type": "code",
   "execution_count": 11,
   "metadata": {},
   "outputs": [
    {
     "name": "stdout",
     "output_type": "stream",
     "text": [
      "Accuracy:  0.986505654508705\n",
      "MSE:  10.946957586366123\n",
      "---------------------------------------\n"
     ]
    }
   ],
   "source": [
    "X = data[['POTENCIA TERMICA GRUPO FRIO 2', 'ENTRADA AGUA A TORRE 2', 'SALIDA AGUA TORRE 2',\n",
    "          'POTENCIA TRAFO 4', 'POTENCIA TRAFO 5', 'POTENCIA MEDIA CONECTADA', 'CONTROL FRÍO',\n",
    "          'KIGO FRIGORÍAS GENERADAS GRUPO DE FRÍO 2', 'TEMPERATURA EXTERIOR']]\n",
    "y = data['POTENCIA GRUPO FRÍO 2']\n",
    "regrGrupo2 = randomForestRegressor(X, y)"
   ]
  },
  {
   "cell_type": "code",
   "execution_count": null,
   "metadata": {},
   "outputs": [],
   "source": []
  }
 ],
 "metadata": {
  "kernelspec": {
   "display_name": "Python 3",
   "language": "python",
   "name": "python3"
  },
  "language_info": {
   "codemirror_mode": {
    "name": "ipython",
    "version": 3
   },
   "file_extension": ".py",
   "mimetype": "text/x-python",
   "name": "python",
   "nbconvert_exporter": "python",
   "pygments_lexer": "ipython3",
   "version": "3.7.4"
  }
 },
 "nbformat": 4,
 "nbformat_minor": 2
}
