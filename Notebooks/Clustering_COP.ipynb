{
 "cells": [
  {
   "cell_type": "code",
   "execution_count": 94,
   "metadata": {},
   "outputs": [],
   "source": [
    "import pandas as pd\n",
    "import numpy as np\n",
    "from sklearn.model_selection import train_test_split\n",
    "from sklearn import metrics\n",
    "import matplotlib.pyplot as plt "
   ]
  },
  {
   "cell_type": "code",
   "execution_count": 95,
   "metadata": {},
   "outputs": [],
   "source": [
    "data = pd.read_excel(\"../Datasets/HVAC_limpio.xlsx\", \"HVAC_limpio\", index_col=0)\n",
    "#data"
   ]
  },
  {
   "cell_type": "code",
   "execution_count": 96,
   "metadata": {},
   "outputs": [],
   "source": [
    "data['Fecha- hora de lectura'] = (data['Fecha- hora de lectura'] - data['Fecha- hora de lectura'].min())  / np.timedelta64(1,'D')\n",
    "#data.drop(['Fecha- hora de lectura'], axis=1, inplace=True)"
   ]
  },
  {
   "cell_type": "code",
   "execution_count": 97,
   "metadata": {},
   "outputs": [
    {
     "data": {
      "text/plain": [
       "Index(['Fecha- hora de lectura', 'POTENCIA TRAFO 2', 'POTENCIA TRAFO 3',\n",
       "       'POTENCIA TRAFO 4', 'POTENCIA TRAFO 5', 'POTENCIA MEDIA CONECTADA',\n",
       "       'CONTROL FRÍO', 'POTENCIA BOMBA CALOR FELIPE',\n",
       "       'POTENCIA BOMBA CALOR CARLOS',\n",
       "       'TEMPERATURA AMBIENTE BOMBA CALOR CARLOS',\n",
       "       'TEMPERATURA AMBIENTE BOMBA CALOR FELIPE', 'TEMPERATURA EXTERIOR',\n",
       "       'CAPACIDAD GRUPO DE FRÍO 2', 'POTENCIA GRUPO FRÍO 1',\n",
       "       'POTENCIA GRUPO FRÍO 2', 'ENTRADA AGUA A TORRE 1',\n",
       "       'SALIDA AGUA TORRE 1', 'ENTRADA AGUA A TORRE 2', 'SALIDA AGUA TORRE 2',\n",
       "       'C_O_P MÁQUINA GRUPO FRÍO 1', 'C_O_P MÁQUINA GRUPO FRÍO 2',\n",
       "       'C_O_P BOMBA CALOR CARLOS', 'C_O_P BOMBA CALOR FELIPE',\n",
       "       'TEMPERATURA SALIDA BOMBA CALOR CARLOS',\n",
       "       'TEMPERATURA SALIDA BOMBA CALOR FELIPE',\n",
       "       'KILO CALORÍAS GENERADAS BOMBA CALOR CARLOS',\n",
       "       'KILO CALORÍAS GENERADAS BOMBA CALOR FELIPE',\n",
       "       'KIGO FRIGORÍAS GENERADAS GRUPO DE FRÍO 1',\n",
       "       'KIGO FRIGORÍAS GENERADAS GRUPO DE FRÍO 2',\n",
       "       'POTENCIA TERMICA BOMBA CALOR CARLOS',\n",
       "       'POTENCIA TERMICA BOMBA CALOR FELIPE', 'POTENCIA TERMICA GRUPO FRIO 1',\n",
       "       'POTENCIA TERMICA GRUPO FRIO 2', 'ENERGIA ELECTRICA GRUPO FRIO 1',\n",
       "       'ENERGIA ELECTRICA GRUPO FRIO 2', 'ENERGIA ELECTRICA BOMBA CARLOS',\n",
       "       'ENERGIA ELECTRICA BOMBA FELIPE', 'ENERGIA ELECTRICA TOTAL'],\n",
       "      dtype='object')"
      ]
     },
     "execution_count": 97,
     "metadata": {},
     "output_type": "execute_result"
    }
   ],
   "source": [
    "data.columns"
   ]
  },
  {
   "cell_type": "code",
   "execution_count": 108,
   "metadata": {},
   "outputs": [],
   "source": [
    "df_COP = pd.DataFrame(columns=['C_O_P MÁQUINA GRUPO FRÍO 1', 'C_O_P MÁQUINA GRUPO FRÍO 2', \n",
    "                           'C_O_P BOMBA CALOR CARLOS', 'C_O_P BOMBA CALOR FELIPE'])"
   ]
  },
  {
   "cell_type": "code",
   "execution_count": 109,
   "metadata": {},
   "outputs": [],
   "source": [
    "from sklearn.neighbors import KNeighborsRegressor\n",
    "\n",
    "def kNRegressor(X, y):\n",
    "    X_train, X_test, y_train, y_test = train_test_split(X, y, test_size=0.3)\n",
    "    neigh = KNeighborsRegressor(n_neighbors=15)\n",
    "    neigh.fit(X_train, y_train) \n",
    "    predicts = neigh.predict(X_test)\n",
    "    return predicts"
   ]
  },
  {
   "cell_type": "code",
   "execution_count": 110,
   "metadata": {},
   "outputs": [],
   "source": [
    "X = data[['POTENCIA GRUPO FRÍO 1', 'POTENCIA TERMICA GRUPO FRIO 1', 'TEMPERATURA EXTERIOR']]\n",
    "y = data['C_O_P MÁQUINA GRUPO FRÍO 1']\n",
    "predGrupoFrio1 = kNRegressor(X, y)\n",
    "df_COP['C_O_P MÁQUINA GRUPO FRÍO 1'] = predGrupoFrio1"
   ]
  },
  {
   "cell_type": "code",
   "execution_count": 111,
   "metadata": {},
   "outputs": [],
   "source": [
    "X = data[['POTENCIA GRUPO FRÍO 2', 'POTENCIA TERMICA GRUPO FRIO 2', 'TEMPERATURA EXTERIOR']]\n",
    "y = data['C_O_P MÁQUINA GRUPO FRÍO 2']\n",
    "predGrupoFrio2 = kNRegressor(X, y)\n",
    "df_COP['C_O_P MÁQUINA GRUPO FRÍO 2'] = predGrupoFrio2"
   ]
  },
  {
   "cell_type": "code",
   "execution_count": 112,
   "metadata": {},
   "outputs": [],
   "source": [
    "X = data[['POTENCIA BOMBA CALOR CARLOS', 'POTENCIA TERMICA BOMBA CALOR CARLOS', 'TEMPERATURA EXTERIOR',\n",
    "          'TEMPERATURA SALIDA BOMBA CALOR CARLOS']]\n",
    "y = data['C_O_P BOMBA CALOR CARLOS']\n",
    "predCalorCarlos = kNRegressor(X, y)\n",
    "df_COP['C_O_P BOMBA CALOR CARLOS'] = predCalorCarlos"
   ]
  },
  {
   "cell_type": "code",
   "execution_count": 113,
   "metadata": {},
   "outputs": [],
   "source": [
    "X = data[['POTENCIA BOMBA CALOR FELIPE', 'POTENCIA TERMICA BOMBA CALOR FELIPE', 'TEMPERATURA EXTERIOR',\n",
    "          'TEMPERATURA SALIDA BOMBA CALOR FELIPE']]\n",
    "y = data['C_O_P BOMBA CALOR FELIPE']\n",
    "predCalorFelipe = kNRegressor(X, y)\n",
    "df_COP['C_O_P BOMBA CALOR FELIPE'] = predCalorFelipe"
   ]
  },
  {
   "cell_type": "code",
   "execution_count": 134,
   "metadata": {},
   "outputs": [
    {
     "data": {
      "text/html": [
       "<div>\n",
       "<style scoped>\n",
       "    .dataframe tbody tr th:only-of-type {\n",
       "        vertical-align: middle;\n",
       "    }\n",
       "\n",
       "    .dataframe tbody tr th {\n",
       "        vertical-align: top;\n",
       "    }\n",
       "\n",
       "    .dataframe thead th {\n",
       "        text-align: right;\n",
       "    }\n",
       "</style>\n",
       "<table border=\"1\" class=\"dataframe\">\n",
       "  <thead>\n",
       "    <tr style=\"text-align: right;\">\n",
       "      <th></th>\n",
       "      <th>C_O_P MÁQUINA GRUPO FRÍO 1</th>\n",
       "      <th>C_O_P MÁQUINA GRUPO FRÍO 2</th>\n",
       "      <th>C_O_P BOMBA CALOR CARLOS</th>\n",
       "      <th>C_O_P BOMBA CALOR FELIPE</th>\n",
       "    </tr>\n",
       "  </thead>\n",
       "  <tbody>\n",
       "    <tr>\n",
       "      <th>0</th>\n",
       "      <td>5.191439</td>\n",
       "      <td>7.827373</td>\n",
       "      <td>2.806680</td>\n",
       "      <td>3.504633</td>\n",
       "    </tr>\n",
       "    <tr>\n",
       "      <th>1</th>\n",
       "      <td>5.191439</td>\n",
       "      <td>6.030446</td>\n",
       "      <td>4.158369</td>\n",
       "      <td>3.356352</td>\n",
       "    </tr>\n",
       "    <tr>\n",
       "      <th>2</th>\n",
       "      <td>5.191439</td>\n",
       "      <td>4.379319</td>\n",
       "      <td>4.017336</td>\n",
       "      <td>3.356352</td>\n",
       "    </tr>\n",
       "    <tr>\n",
       "      <th>3</th>\n",
       "      <td>8.099650</td>\n",
       "      <td>5.319872</td>\n",
       "      <td>3.516735</td>\n",
       "      <td>3.566408</td>\n",
       "    </tr>\n",
       "    <tr>\n",
       "      <th>4</th>\n",
       "      <td>4.461139</td>\n",
       "      <td>5.319872</td>\n",
       "      <td>3.643607</td>\n",
       "      <td>3.786337</td>\n",
       "    </tr>\n",
       "  </tbody>\n",
       "</table>\n",
       "</div>"
      ],
      "text/plain": [
       "   C_O_P MÁQUINA GRUPO FRÍO 1  C_O_P MÁQUINA GRUPO FRÍO 2  \\\n",
       "0                    5.191439                    7.827373   \n",
       "1                    5.191439                    6.030446   \n",
       "2                    5.191439                    4.379319   \n",
       "3                    8.099650                    5.319872   \n",
       "4                    4.461139                    5.319872   \n",
       "\n",
       "   C_O_P BOMBA CALOR CARLOS  C_O_P BOMBA CALOR FELIPE  \n",
       "0                  2.806680                  3.504633  \n",
       "1                  4.158369                  3.356352  \n",
       "2                  4.017336                  3.356352  \n",
       "3                  3.516735                  3.566408  \n",
       "4                  3.643607                  3.786337  "
      ]
     },
     "execution_count": 134,
     "metadata": {},
     "output_type": "execute_result"
    }
   ],
   "source": [
    "df_COP.head()"
   ]
  },
  {
   "cell_type": "markdown",
   "metadata": {},
   "source": [
    "## KMeans"
   ]
  },
  {
   "cell_type": "markdown",
   "metadata": {},
   "source": [
    "El algoritmo trabaja iterativamente para asignar a cada dato uno de los K grupos basadose en sus características, es decir, son agrupados en base a la similitud de sus features (las columnas).\n",
    "Los grupos se van definiendo en cada iteración del proceso, hasta que converge el algoritmo. Una vez hallados los *centroids* deberemos analizarlos para ver cuales son sus características únicas, frente a la de los otros grupos."
   ]
  },
  {
   "cell_type": "code",
   "execution_count": 115,
   "metadata": {},
   "outputs": [],
   "source": [
    "from sklearn.cluster import KMeans"
   ]
  },
  {
   "cell_type": "code",
   "execution_count": 116,
   "metadata": {},
   "outputs": [
    {
     "data": {
      "image/png": "[encoded data removed]",
      "text/plain": [
       "<Figure size 720x576 with 1 Axes>"
      ]
     },
     "metadata": {
      "needs_background": "light"
     },
     "output_type": "display_data"
    }
   ],
   "source": [
    "plt.figure(figsize=(10, 8))\n",
    "wcss = []\n",
    "for i in range(1, 11):\n",
    "    kmeans = KMeans(n_clusters = i, init = 'k-means++', random_state = 42)\n",
    "    kmeans.fit(df_COP)\n",
    "    wcss.append(kmeans.inertia_)\n",
    "plt.plot(range(1, 11), wcss)\n",
    "plt.title('The Elbow Method')\n",
    "plt.xlabel('Number of clusters')\n",
    "plt.ylabel('WCSS')\n",
    "plt.show()"
   ]
  },
  {
   "cell_type": "code",
   "execution_count": 141,
   "metadata": {},
   "outputs": [],
   "source": [
    "kmeans = KMeans(n_clusters = 4)\n",
    "kmeans.fit(df_COP)\n",
    "centroids = kmeans.cluster_centers_"
   ]
  },
  {
   "cell_type": "code",
   "execution_count": 142,
   "metadata": {},
   "outputs": [
    {
     "data": {
      "text/plain": [
       "array([[4.96043217, 5.30349812, 3.64333787, 3.35581285],\n",
       "       [5.16538609, 9.98618513, 3.66245531, 3.36498946],\n",
       "       [4.96647908, 4.33351825, 3.64557657, 3.35849856],\n",
       "       [7.91750115, 4.90870895, 3.64391205, 3.35907267]])"
      ]
     },
     "execution_count": 142,
     "metadata": {},
     "output_type": "execute_result"
    }
   ],
   "source": [
    "centroids"
   ]
  },
  {
   "cell_type": "code",
   "execution_count": 143,
   "metadata": {},
   "outputs": [
    {
     "data": {
      "text/plain": [
       "-10491.743939432694"
      ]
     },
     "execution_count": 143,
     "metadata": {},
     "output_type": "execute_result"
    }
   ],
   "source": [
    "kmeans.score(df_COP)"
   ]
  },
  {
   "cell_type": "code",
   "execution_count": null,
   "metadata": {},
   "outputs": [],
   "source": []
  }
 ],
 "metadata": {
  "kernelspec": {
   "display_name": "Python 3",
   "language": "python",
   "name": "python3"
  },
  "language_info": {
   "codemirror_mode": {
    "name": "ipython",
    "version": 3
   },
   "file_extension": ".py",
   "mimetype": "text/x-python",
   "name": "python",
   "nbconvert_exporter": "python",
   "pygments_lexer": "ipython3",
   "version": "3.7.3"
  }
 },
 "nbformat": 4,
 "nbformat_minor": 2
}
