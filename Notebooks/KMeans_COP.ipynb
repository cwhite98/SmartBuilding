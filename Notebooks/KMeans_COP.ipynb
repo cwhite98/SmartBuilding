{
 "cells": [
  {
   "cell_type": "markdown",
   "metadata": {},
   "source": [
    "# Aprendizaje No Supervisado"
   ]
  },
  {
   "cell_type": "code",
   "execution_count": 1,
   "metadata": {},
   "outputs": [],
   "source": [
    "import pandas as pd\n",
    "import numpy as np\n",
    "import os\n",
    "import matplotlib.pyplot as plt "
   ]
  },
  {
   "cell_type": "code",
   "execution_count": 2,
   "metadata": {},
   "outputs": [],
   "source": [
    "mainpath = \"../Datasets/\"\n",
    "filename = \"HVAC.xlsx\"\n",
    "fullpath = os.path.join(mainpath, filename)"
   ]
  },
  {
   "cell_type": "code",
   "execution_count": 3,
   "metadata": {},
   "outputs": [],
   "source": [
    "data = pd.read_excel(fullpath, \"HISTORICO_DATOS\")"
   ]
  },
  {
   "cell_type": "code",
   "execution_count": 4,
   "metadata": {},
   "outputs": [],
   "source": [
    "data2 = data\n",
    "variables_a_eliminar = [\"C_O_P_ BOMBA CALOR FELIPE\", \"C_O_P_ BOMBA CALOR CARLOS\",\n",
    "                        \"C_O_P_ INSTALACIÓN GRUPO FRÍO 1\", \"C_O_P_ INSTALACÍON GRUPO FRÍO 2\",\n",
    "                        \"ORDEN\", \"VÁLVULA BY PASS SECUNDARIO FRÍO\",\n",
    "                        \"TEMPERATURA CONTROL DE BY PASS SECUNDARIO\", \"SECUNDARIO FRÍO 1\",\n",
    "                        \"SECUNDARIO FRÍO 2\", \"SECUNDARIO FRÍO 3\", \"MODO INVIERNO BC1\", \n",
    "                        \"MODO INVIERNO BC2\", \"PERIODO P6\", \"CONTROL CALOR\", \n",
    "                        \"CAPACIDAD BOMBA CALOR FELIPE %\", \"CAPACIDAD BOMBA CALOR CARLOS %\",\n",
    "                        \"CAPACIDAD GRUPO DE FRÍO 1\",\" CAPACIDAD GRUPO DE FRÍO 2\",\n",
    "                        \"IMPULSIÓN SECUNDARIO CALOR\", \"SECUNDARIO CALOR 1\", \n",
    "                        \"SECUNDARIO CALOR 2\", \"SECUNDARIO CALOR 3\",\n",
    "                        \"Fecha- hora de lectura\"]\n",
    "lista_variables = data2.columns.values.tolist()\n",
    "subLista = [x for x in lista_variables if x not in variables_a_eliminar]\n",
    "data2 = data2[subLista]"
   ]
  },
  {
   "cell_type": "code",
   "execution_count": 5,
   "metadata": {},
   "outputs": [
    {
     "name": "stderr",
     "output_type": "stream",
     "text": [
      "//anaconda3/lib/python3.7/site-packages/ipykernel_launcher.py:2: SettingWithCopyWarning: \n",
      "A value is trying to be set on a copy of a slice from a DataFrame.\n",
      "Try using .loc[row_indexer,col_indexer] = value instead\n",
      "\n",
      "See the caveats in the documentation: http://pandas.pydata.org/pandas-docs/stable/indexing.html#indexing-view-versus-copy\n",
      "  \n",
      "//anaconda3/lib/python3.7/site-packages/ipykernel_launcher.py:3: SettingWithCopyWarning: \n",
      "A value is trying to be set on a copy of a slice from a DataFrame.\n",
      "Try using .loc[row_indexer,col_indexer] = value instead\n",
      "\n",
      "See the caveats in the documentation: http://pandas.pydata.org/pandas-docs/stable/indexing.html#indexing-view-versus-copy\n",
      "  This is separate from the ipykernel package so we can avoid doing imports until\n",
      "//anaconda3/lib/python3.7/site-packages/ipykernel_launcher.py:4: SettingWithCopyWarning: \n",
      "A value is trying to be set on a copy of a slice from a DataFrame.\n",
      "Try using .loc[row_indexer,col_indexer] = value instead\n",
      "\n",
      "See the caveats in the documentation: http://pandas.pydata.org/pandas-docs/stable/indexing.html#indexing-view-versus-copy\n",
      "  after removing the cwd from sys.path.\n",
      "//anaconda3/lib/python3.7/site-packages/ipykernel_launcher.py:5: SettingWithCopyWarning: \n",
      "A value is trying to be set on a copy of a slice from a DataFrame.\n",
      "Try using .loc[row_indexer,col_indexer] = value instead\n",
      "\n",
      "See the caveats in the documentation: http://pandas.pydata.org/pandas-docs/stable/indexing.html#indexing-view-versus-copy\n",
      "  \"\"\"\n"
     ]
    }
   ],
   "source": [
    "data3 = data2\n",
    "data3[\"POTENCIA TERMICA BOMBA CALOR CARLOS\"] = data2[\"KILO CALORÍAS GENERADAS BOMBA CALOR CARLOS\"] * 0.001163\n",
    "data3[\"POTENCIA TERMICA BOMBA CALOR FELIPE\"] = data2[\"KILO CALORÍAS GENERADAS BOMBA CALOR FELIPE\"] * 0.001163\n",
    "data3[\"POTENCIA TERMICA GRUPO FRIO 1\"] = data2[\"KIGO FRIGORÍAS GENERADAS GRUPO DE FRÍO 1\"] * 0.001163\n",
    "data3[\"POTENCIA TERMICA GRUPO FRIO 2\"] = data2[\"KIGO FRIGORÍAS GENERADAS GRUPO DE FRÍO 2\"] * 0.001163"
   ]
  },
  {
   "cell_type": "code",
   "execution_count": 14,
   "metadata": {},
   "outputs": [
    {
     "data": {
      "text/html": [
       "<div>\n",
       "<style scoped>\n",
       "    .dataframe tbody tr th:only-of-type {\n",
       "        vertical-align: middle;\n",
       "    }\n",
       "\n",
       "    .dataframe tbody tr th {\n",
       "        vertical-align: top;\n",
       "    }\n",
       "\n",
       "    .dataframe thead th {\n",
       "        text-align: right;\n",
       "    }\n",
       "</style>\n",
       "<table border=\"1\" class=\"dataframe\">\n",
       "  <thead>\n",
       "    <tr style=\"text-align: right;\">\n",
       "      <th></th>\n",
       "      <th>POTENCIA BOMBA CALOR CARLOS</th>\n",
       "      <th>POTENCIA TERMICA BOMBA CALOR CARLOS</th>\n",
       "      <th>TEMPERATURA EXTERIOR</th>\n",
       "      <th>TEMPERATURA SALIDA BOMBA CALOR CARLOS</th>\n",
       "    </tr>\n",
       "  </thead>\n",
       "  <tbody>\n",
       "    <tr>\n",
       "      <th>count</th>\n",
       "      <td>79285.000000</td>\n",
       "      <td>79285.000000</td>\n",
       "      <td>79285.000000</td>\n",
       "      <td>79285.000000</td>\n",
       "    </tr>\n",
       "    <tr>\n",
       "      <th>mean</th>\n",
       "      <td>33.616413</td>\n",
       "      <td>132.154739</td>\n",
       "      <td>15.083257</td>\n",
       "      <td>29.447289</td>\n",
       "    </tr>\n",
       "    <tr>\n",
       "      <th>std</th>\n",
       "      <td>43.907480</td>\n",
       "      <td>149.917857</td>\n",
       "      <td>11.345877</td>\n",
       "      <td>13.676912</td>\n",
       "    </tr>\n",
       "    <tr>\n",
       "      <th>min</th>\n",
       "      <td>0.000000</td>\n",
       "      <td>0.000000</td>\n",
       "      <td>-1.400000</td>\n",
       "      <td>0.000000</td>\n",
       "    </tr>\n",
       "    <tr>\n",
       "      <th>25%</th>\n",
       "      <td>0.480000</td>\n",
       "      <td>9.877769</td>\n",
       "      <td>6.968000</td>\n",
       "      <td>16.940001</td>\n",
       "    </tr>\n",
       "    <tr>\n",
       "      <th>50%</th>\n",
       "      <td>0.500000</td>\n",
       "      <td>46.868723</td>\n",
       "      <td>13.353139</td>\n",
       "      <td>34.740002</td>\n",
       "    </tr>\n",
       "    <tr>\n",
       "      <th>75%</th>\n",
       "      <td>67.599998</td>\n",
       "      <td>255.914298</td>\n",
       "      <td>23.717333</td>\n",
       "      <td>42.450001</td>\n",
       "    </tr>\n",
       "    <tr>\n",
       "      <th>max</th>\n",
       "      <td>164.206665</td>\n",
       "      <td>592.614391</td>\n",
       "      <td>43.799999</td>\n",
       "      <td>47.889999</td>\n",
       "    </tr>\n",
       "  </tbody>\n",
       "</table>\n",
       "</div>"
      ],
      "text/plain": [
       "       POTENCIA BOMBA CALOR CARLOS  POTENCIA TERMICA BOMBA CALOR CARLOS  \\\n",
       "count                 79285.000000                         79285.000000   \n",
       "mean                     33.616413                           132.154739   \n",
       "std                      43.907480                           149.917857   \n",
       "min                       0.000000                             0.000000   \n",
       "25%                       0.480000                             9.877769   \n",
       "50%                       0.500000                            46.868723   \n",
       "75%                      67.599998                           255.914298   \n",
       "max                     164.206665                           592.614391   \n",
       "\n",
       "       TEMPERATURA EXTERIOR  TEMPERATURA SALIDA BOMBA CALOR CARLOS  \n",
       "count          79285.000000                           79285.000000  \n",
       "mean              15.083257                              29.447289  \n",
       "std               11.345877                              13.676912  \n",
       "min               -1.400000                               0.000000  \n",
       "25%                6.968000                              16.940001  \n",
       "50%               13.353139                              34.740002  \n",
       "75%               23.717333                              42.450001  \n",
       "max               43.799999                              47.889999  "
      ]
     },
     "execution_count": 14,
     "metadata": {},
     "output_type": "execute_result"
    }
   ],
   "source": [
    "dataCarlos = data3[['POTENCIA BOMBA CALOR CARLOS', 'POTENCIA TERMICA BOMBA CALOR CARLOS', 'TEMPERATURA EXTERIOR',\n",
    "          'TEMPERATURA SALIDA BOMBA CALOR CARLOS']]\n",
    "dataCarlos.describe()"
   ]
  },
  {
   "cell_type": "markdown",
   "metadata": {},
   "source": [
    "## Cargando dataset limpio para ver el comportamiento de los datos normales"
   ]
  },
  {
   "cell_type": "code",
   "execution_count": 7,
   "metadata": {},
   "outputs": [],
   "source": [
    "dataLimpia = pd.read_excel(\"../Datasets/HVAC_limpio.xlsx\", \"HVAC_limpio\", index_col=0)"
   ]
  },
  {
   "cell_type": "code",
   "execution_count": 15,
   "metadata": {},
   "outputs": [
    {
     "data": {
      "text/html": [
       "<div>\n",
       "<style scoped>\n",
       "    .dataframe tbody tr th:only-of-type {\n",
       "        vertical-align: middle;\n",
       "    }\n",
       "\n",
       "    .dataframe tbody tr th {\n",
       "        vertical-align: top;\n",
       "    }\n",
       "\n",
       "    .dataframe thead th {\n",
       "        text-align: right;\n",
       "    }\n",
       "</style>\n",
       "<table border=\"1\" class=\"dataframe\">\n",
       "  <thead>\n",
       "    <tr style=\"text-align: right;\">\n",
       "      <th></th>\n",
       "      <th>POTENCIA BOMBA CALOR CARLOS</th>\n",
       "      <th>POTENCIA TERMICA BOMBA CALOR CARLOS</th>\n",
       "      <th>TEMPERATURA EXTERIOR</th>\n",
       "      <th>TEMPERATURA SALIDA BOMBA CALOR CARLOS</th>\n",
       "      <th>C_O_P BOMBA CALOR CARLOS</th>\n",
       "    </tr>\n",
       "  </thead>\n",
       "  <tbody>\n",
       "    <tr>\n",
       "      <th>count</th>\n",
       "      <td>79285.000000</td>\n",
       "      <td>79285.000000</td>\n",
       "      <td>79285.000000</td>\n",
       "      <td>79285.000000</td>\n",
       "      <td>79285.000000</td>\n",
       "    </tr>\n",
       "    <tr>\n",
       "      <th>mean</th>\n",
       "      <td>33.982880</td>\n",
       "      <td>134.031192</td>\n",
       "      <td>18.708072</td>\n",
       "      <td>29.768307</td>\n",
       "      <td>3.643607</td>\n",
       "    </tr>\n",
       "    <tr>\n",
       "      <th>std</th>\n",
       "      <td>43.766966</td>\n",
       "      <td>149.088492</td>\n",
       "      <td>8.605477</td>\n",
       "      <td>13.326841</td>\n",
       "      <td>0.377911</td>\n",
       "    </tr>\n",
       "    <tr>\n",
       "      <th>min</th>\n",
       "      <td>0.026667</td>\n",
       "      <td>0.251979</td>\n",
       "      <td>-1.400000</td>\n",
       "      <td>0.420000</td>\n",
       "      <td>1.785044</td>\n",
       "    </tr>\n",
       "    <tr>\n",
       "      <th>25%</th>\n",
       "      <td>0.480000</td>\n",
       "      <td>10.583311</td>\n",
       "      <td>11.900000</td>\n",
       "      <td>17.400000</td>\n",
       "      <td>3.643607</td>\n",
       "    </tr>\n",
       "    <tr>\n",
       "      <th>50%</th>\n",
       "      <td>0.500000</td>\n",
       "      <td>49.993504</td>\n",
       "      <td>18.708072</td>\n",
       "      <td>34.740002</td>\n",
       "      <td>3.643607</td>\n",
       "    </tr>\n",
       "    <tr>\n",
       "      <th>75%</th>\n",
       "      <td>67.599998</td>\n",
       "      <td>255.914298</td>\n",
       "      <td>23.717333</td>\n",
       "      <td>42.450001</td>\n",
       "      <td>3.660718</td>\n",
       "    </tr>\n",
       "    <tr>\n",
       "      <th>max</th>\n",
       "      <td>164.206665</td>\n",
       "      <td>592.614391</td>\n",
       "      <td>43.799999</td>\n",
       "      <td>47.889999</td>\n",
       "      <td>5.413333</td>\n",
       "    </tr>\n",
       "  </tbody>\n",
       "</table>\n",
       "</div>"
      ],
      "text/plain": [
       "       POTENCIA BOMBA CALOR CARLOS  POTENCIA TERMICA BOMBA CALOR CARLOS  \\\n",
       "count                 79285.000000                         79285.000000   \n",
       "mean                     33.982880                           134.031192   \n",
       "std                      43.766966                           149.088492   \n",
       "min                       0.026667                             0.251979   \n",
       "25%                       0.480000                            10.583311   \n",
       "50%                       0.500000                            49.993504   \n",
       "75%                      67.599998                           255.914298   \n",
       "max                     164.206665                           592.614391   \n",
       "\n",
       "       TEMPERATURA EXTERIOR  TEMPERATURA SALIDA BOMBA CALOR CARLOS  \\\n",
       "count          79285.000000                           79285.000000   \n",
       "mean              18.708072                              29.768307   \n",
       "std                8.605477                              13.326841   \n",
       "min               -1.400000                               0.420000   \n",
       "25%               11.900000                              17.400000   \n",
       "50%               18.708072                              34.740002   \n",
       "75%               23.717333                              42.450001   \n",
       "max               43.799999                              47.889999   \n",
       "\n",
       "       C_O_P BOMBA CALOR CARLOS  \n",
       "count              79285.000000  \n",
       "mean                   3.643607  \n",
       "std                    0.377911  \n",
       "min                    1.785044  \n",
       "25%                    3.643607  \n",
       "50%                    3.643607  \n",
       "75%                    3.660718  \n",
       "max                    5.413333  "
      ]
     },
     "execution_count": 15,
     "metadata": {},
     "output_type": "execute_result"
    }
   ],
   "source": [
    "dataCarlosLimpio = dataLimpia[['POTENCIA BOMBA CALOR CARLOS', 'POTENCIA TERMICA BOMBA CALOR CARLOS', 'TEMPERATURA EXTERIOR',\n",
    "          'TEMPERATURA SALIDA BOMBA CALOR CARLOS', 'C_O_P BOMBA CALOR CARLOS']]\n",
    "dataCarlosLimpio.describe()"
   ]
  },
  {
   "cell_type": "markdown",
   "metadata": {},
   "source": [
    "## KMeans"
   ]
  },
  {
   "cell_type": "markdown",
   "metadata": {},
   "source": [
    "El algoritmo trabaja iterativamente para asignar a cada dato uno de los K grupos basadose en sus características, es decir, son agrupados en base a la similitud de sus features (las columnas).\n",
    "Los grupos se van definiendo en cada iteración del proceso, hasta que converge el algoritmo. Una vez hallados los *centroids* deberemos analizarlos para ver cuales son sus características únicas, frente a la de los otros grupos."
   ]
  },
  {
   "cell_type": "code",
   "execution_count": 16,
   "metadata": {},
   "outputs": [
    {
     "data": {
      "image/png": "[encoded data removed]",
      "text/plain": [
       "<Figure size 720x576 with 1 Axes>"
      ]
     },
     "metadata": {
      "needs_background": "light"
     },
     "output_type": "display_data"
    }
   ],
   "source": [
    "from sklearn.cluster import KMeans\n",
    "plt.figure(figsize=(10, 8))\n",
    "wcss = []\n",
    "for i in range(1, 15):\n",
    "    kmeans = KMeans(n_clusters = i, init = 'k-means++')\n",
    "    kmeans.fit(dataCarlos)\n",
    "    wcss.append(kmeans.inertia_)\n",
    "plt.plot(range(1, 15), wcss)\n",
    "plt.title('The Elbow Method')\n",
    "plt.xlabel('Number of clusters')\n",
    "plt.ylabel('WCSS')\n",
    "plt.show()"
   ]
  },
  {
   "cell_type": "code",
   "execution_count": 53,
   "metadata": {},
   "outputs": [],
   "source": [
    "kmeans = KMeans(n_clusters = 4)\n",
    "kmeans.fit(dataCarlos)\n",
    "centroids = kmeans.cluster_centers_"
   ]
  },
  {
   "cell_type": "code",
   "execution_count": 54,
   "metadata": {},
   "outputs": [],
   "source": [
    "dataTest = [[89.76533508, 334.5329885, 18.70807174, 44.03733444]] #datos buenos COP=3.79 linea 37760 dataset limpio\n",
    "dataTest2 = [[6.22666645050049, 181.58, 33.02, 13.9333333969116]] #datos malos COP=16.46, linea 22288 dataset sin limpiar"
   ]
  },
  {
   "cell_type": "code",
   "execution_count": 55,
   "metadata": {},
   "outputs": [
    {
     "data": {
      "text/plain": [
       "array([[  2.37996074,  21.65339402,  15.93358591,  25.72050007],\n",
       "       [ 82.95569293, 303.24896487,  14.84073723,  35.1226742 ],\n",
       "       [ 42.10313623, 171.27001545,  14.24496806,  32.21407766],\n",
       "       [122.38449207, 439.60726892,  11.40660776,  37.88442524]])"
      ]
     },
     "execution_count": 55,
     "metadata": {},
     "output_type": "execute_result"
    }
   ],
   "source": [
    "centroids"
   ]
  },
  {
   "cell_type": "code",
   "execution_count": 56,
   "metadata": {},
   "outputs": [
    {
     "data": {
      "text/plain": [
       "array([2], dtype=int32)"
      ]
     },
     "execution_count": 56,
     "metadata": {},
     "output_type": "execute_result"
    }
   ],
   "source": [
    "#El método predict me dice ese conjunto de datos a qué cluster pertenece(los puntos a dónde son más cercanos).\n",
    "clusters = kmeans.predict(dataTest2)\n",
    "clusters"
   ]
  },
  {
   "cell_type": "code",
   "execution_count": 57,
   "metadata": {},
   "outputs": [],
   "source": [
    "def diagnosticoFallos(cluster):\n",
    "    minPotenciaCarlos = 0.02 \n",
    "    maxPotenciaCarlos = 34\n",
    "    minPotenciaTermicaCarlos = 0.2 \n",
    "    maxPotenciaTermicaCarlos = 134\n",
    "    minTempExterior = 10\n",
    "    maxTempExterior = 28\n",
    "    minTempSalidaCarlos = 17\n",
    "    maxTempSalidaCarlos = 43\n",
    "    '''length = len(centroids)\n",
    "    for i in range(length):\n",
    "        if not ((centroids[i][0] > minPotenciaCarlos) and (centroids[i][0] <= maxPotenciaCarlos)):\n",
    "            print('cluster ', i+1, ' anomalo')\n",
    "        elif not ((centroids[i][1] > minPotenciaTermicaCarlos) and (centroids[i][1] <= maxPotenciaTermicaCarlos)):\n",
    "            print('cluster ', i+1, ' anomalo')\n",
    "        elif not ((centroids[i][2] > minTempExterior) and (centroids[i][2] <= maxTempExterior)):\n",
    "            print('cluster ', i+1, ' anomalo')\n",
    "        elif not ((centroids[i][3] > minTempSalidaCarlos) and (centroids[i][3] <= maxTempSalidaCarlos)):\n",
    "            print('cluster ', i+1, ' anomalo')\n",
    "        else:\n",
    "            print('cluster ', i+1, ' bueno')'''\n",
    "    if not ((centroids[cluster][0] > minPotenciaCarlos) and (centroids[cluster][0] <= maxPotenciaCarlos)):\n",
    "        print('Revisar la POTENCIA BOMBA CALOR CARLOS.')\n",
    "    if not ((centroids[cluster][1] > minPotenciaTermicaCarlos) and (centroids[cluster][1] <= maxPotenciaTermicaCarlos)):\n",
    "        print('Revisar la POTENCIA TERMICA BOMBA CALOR CARLOS.')\n",
    "    if not ((centroids[cluster][2] > minTempExterior) and (centroids[cluster][2] <= maxTempExterior)):\n",
    "        print('Revisar la TEMPERATURA EXTERIOR.')\n",
    "    if not ((centroids[cluster][3] > minTempSalidaCarlos) and (centroids[cluster][3] <= maxTempSalidaCarlos)):\n",
    "        print('Revisar la TEMPERATURA SALIDA BOMBA CALOR CARLOS.')"
   ]
  },
  {
   "cell_type": "code",
   "execution_count": 58,
   "metadata": {},
   "outputs": [
    {
     "name": "stdout",
     "output_type": "stream",
     "text": [
      "Revisar la POTENCIA BOMBA CALOR CARLOS.\n",
      "Revisar la POTENCIA TERMICA BOMBA CALOR CARLOS.\n"
     ]
    }
   ],
   "source": [
    "for cluster in clusters:\n",
    "    diagnosticoFallos(cluster)"
   ]
  },
  {
   "cell_type": "code",
   "execution_count": null,
   "metadata": {},
   "outputs": [],
   "source": []
  }
 ],
 "metadata": {
  "kernelspec": {
   "display_name": "Python 3",
   "language": "python",
   "name": "python3"
  },
  "language_info": {
   "codemirror_mode": {
    "name": "ipython",
    "version": 3
   },
   "file_extension": ".py",
   "mimetype": "text/x-python",
   "name": "python",
   "nbconvert_exporter": "python",
   "pygments_lexer": "ipython3",
   "version": "3.7.3"
  }
 },
 "nbformat": 4,
 "nbformat_minor": 2
}
