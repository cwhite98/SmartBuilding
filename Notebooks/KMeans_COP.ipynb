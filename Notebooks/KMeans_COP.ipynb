{
 "cells": [
  {
   "cell_type": "markdown",
   "metadata": {},
   "source": [
    "# Aprendizaje No Supervisado"
   ]
  },
  {
   "cell_type": "code",
   "execution_count": 1,
   "metadata": {},
   "outputs": [],
   "source": [
    "import pandas as pd\n",
    "import numpy as np\n",
    "import matplotlib.pyplot as plt \n",
    "from sklearn.cluster import KMeans"
   ]
  },
  {
   "cell_type": "code",
   "execution_count": 2,
   "metadata": {},
   "outputs": [],
   "source": [
    "data = pd.read_excel(\"../Datasets/HVAC.xlsx\", \"HISTORICO_DATOS\", index_col=0)"
   ]
  },
  {
   "cell_type": "code",
   "execution_count": 3,
   "metadata": {},
   "outputs": [],
   "source": [
    "data2 = data\n",
    "variables_a_eliminar = [\"C_O_P_ BOMBA CALOR FELIPE\", \"C_O_P_ BOMBA CALOR CARLOS\",\n",
    "                        \"C_O_P_ INSTALACIÓN GRUPO FRÍO 1\", \"C_O_P_ INSTALACÍON GRUPO FRÍO 2\",\n",
    "                        \"ORDEN\", \"VÁLVULA BY PASS SECUNDARIO FRÍO\",\n",
    "                        \"TEMPERATURA CONTROL DE BY PASS SECUNDARIO\", \"SECUNDARIO FRÍO 1\",\n",
    "                        \"SECUNDARIO FRÍO 2\", \"SECUNDARIO FRÍO 3\", \"MODO INVIERNO BC1\", \n",
    "                        \"MODO INVIERNO BC2\", \"PERIODO P6\", \"CONTROL CALOR\", \n",
    "                        \"CAPACIDAD BOMBA CALOR FELIPE %\", \"CAPACIDAD BOMBA CALOR CARLOS %\",\n",
    "                        \"CAPACIDAD GRUPO DE FRÍO 1\",\" CAPACIDAD GRUPO DE FRÍO 2\",\n",
    "                        \"IMPULSIÓN SECUNDARIO CALOR\", \"SECUNDARIO CALOR 1\", \n",
    "                        \"SECUNDARIO CALOR 2\", \"SECUNDARIO CALOR 3\",\n",
    "                        \"Fecha- hora de lectura\"]\n",
    "lista_variables = data2.columns.values.tolist()\n",
    "subLista = [x for x in lista_variables if x not in variables_a_eliminar]\n",
    "data2 = data2[subLista]"
   ]
  },
  {
   "cell_type": "code",
   "execution_count": 4,
   "metadata": {},
   "outputs": [
    {
     "name": "stderr",
     "output_type": "stream",
     "text": [
      "/Users/camilawhite/opt/anaconda3/lib/python3.7/site-packages/ipykernel_launcher.py:2: SettingWithCopyWarning: \n",
      "A value is trying to be set on a copy of a slice from a DataFrame.\n",
      "Try using .loc[row_indexer,col_indexer] = value instead\n",
      "\n",
      "See the caveats in the documentation: http://pandas.pydata.org/pandas-docs/stable/user_guide/indexing.html#returning-a-view-versus-a-copy\n",
      "  \n",
      "/Users/camilawhite/opt/anaconda3/lib/python3.7/site-packages/ipykernel_launcher.py:3: SettingWithCopyWarning: \n",
      "A value is trying to be set on a copy of a slice from a DataFrame.\n",
      "Try using .loc[row_indexer,col_indexer] = value instead\n",
      "\n",
      "See the caveats in the documentation: http://pandas.pydata.org/pandas-docs/stable/user_guide/indexing.html#returning-a-view-versus-a-copy\n",
      "  This is separate from the ipykernel package so we can avoid doing imports until\n",
      "/Users/camilawhite/opt/anaconda3/lib/python3.7/site-packages/ipykernel_launcher.py:4: SettingWithCopyWarning: \n",
      "A value is trying to be set on a copy of a slice from a DataFrame.\n",
      "Try using .loc[row_indexer,col_indexer] = value instead\n",
      "\n",
      "See the caveats in the documentation: http://pandas.pydata.org/pandas-docs/stable/user_guide/indexing.html#returning-a-view-versus-a-copy\n",
      "  after removing the cwd from sys.path.\n",
      "/Users/camilawhite/opt/anaconda3/lib/python3.7/site-packages/ipykernel_launcher.py:5: SettingWithCopyWarning: \n",
      "A value is trying to be set on a copy of a slice from a DataFrame.\n",
      "Try using .loc[row_indexer,col_indexer] = value instead\n",
      "\n",
      "See the caveats in the documentation: http://pandas.pydata.org/pandas-docs/stable/user_guide/indexing.html#returning-a-view-versus-a-copy\n",
      "  \"\"\"\n"
     ]
    }
   ],
   "source": [
    "data3 = data2\n",
    "data3[\"POTENCIA TERMICA BOMBA CALOR CARLOS\"] = data2[\"KILO CALORÍAS GENERADAS BOMBA CALOR CARLOS\"] * 0.001163\n",
    "data3[\"POTENCIA TERMICA BOMBA CALOR FELIPE\"] = data2[\"KILO CALORÍAS GENERADAS BOMBA CALOR FELIPE\"] * 0.001163\n",
    "data3[\"POTENCIA TERMICA GRUPO FRIO 1\"] = data2[\"KIGO FRIGORÍAS GENERADAS GRUPO DE FRÍO 1\"] * 0.001163\n",
    "data3[\"POTENCIA TERMICA GRUPO FRIO 2\"] = data2[\"KIGO FRIGORÍAS GENERADAS GRUPO DE FRÍO 2\"] * 0.001163"
   ]
  },
  {
   "cell_type": "markdown",
   "metadata": {},
   "source": [
    "## Método Codo"
   ]
  },
  {
   "cell_type": "code",
   "execution_count": 5,
   "metadata": {},
   "outputs": [],
   "source": [
    "def metodoCodo(X):\n",
    "    from sklearn.cluster import KMeans\n",
    "    plt.figure(figsize=(10, 8))\n",
    "    wcss = []\n",
    "    for i in range(1, 15):\n",
    "        kmeans = KMeans(n_clusters = i, init = 'k-means++')\n",
    "        kmeans.fit(X)\n",
    "        wcss.append(kmeans.inertia_)\n",
    "    plt.plot(range(1, 15), wcss)\n",
    "    plt.title('The Elbow Method')\n",
    "    plt.xlabel('Number of clusters')\n",
    "    plt.ylabel('WCSS')\n",
    "    plt.show()"
   ]
  },
  {
   "cell_type": "code",
   "execution_count": 6,
   "metadata": {},
   "outputs": [],
   "source": [
    "dataLimpia = pd.read_excel(\"../Datasets/HVAC_limpio.xlsx\", \"HVAC_limpio\", index_col=0)"
   ]
  },
  {
   "cell_type": "markdown",
   "metadata": {},
   "source": [
    "## C_O_P Carlos"
   ]
  },
  {
   "cell_type": "markdown",
   "metadata": {},
   "source": [
    "Datos sin limpiar de Carlos"
   ]
  },
  {
   "cell_type": "code",
   "execution_count": 7,
   "metadata": {},
   "outputs": [
    {
     "data": {
      "text/html": [
       "<div>\n",
       "<style scoped>\n",
       "    .dataframe tbody tr th:only-of-type {\n",
       "        vertical-align: middle;\n",
       "    }\n",
       "\n",
       "    .dataframe tbody tr th {\n",
       "        vertical-align: top;\n",
       "    }\n",
       "\n",
       "    .dataframe thead th {\n",
       "        text-align: right;\n",
       "    }\n",
       "</style>\n",
       "<table border=\"1\" class=\"dataframe\">\n",
       "  <thead>\n",
       "    <tr style=\"text-align: right;\">\n",
       "      <th></th>\n",
       "      <th>POTENCIA BOMBA CALOR CARLOS</th>\n",
       "      <th>POTENCIA TERMICA BOMBA CALOR CARLOS</th>\n",
       "      <th>TEMPERATURA EXTERIOR</th>\n",
       "      <th>TEMPERATURA SALIDA BOMBA CALOR CARLOS</th>\n",
       "    </tr>\n",
       "  </thead>\n",
       "  <tbody>\n",
       "    <tr>\n",
       "      <td>count</td>\n",
       "      <td>79285.000000</td>\n",
       "      <td>79285.000000</td>\n",
       "      <td>79285.000000</td>\n",
       "      <td>79285.000000</td>\n",
       "    </tr>\n",
       "    <tr>\n",
       "      <td>mean</td>\n",
       "      <td>33.616413</td>\n",
       "      <td>132.154739</td>\n",
       "      <td>15.083257</td>\n",
       "      <td>29.447289</td>\n",
       "    </tr>\n",
       "    <tr>\n",
       "      <td>std</td>\n",
       "      <td>43.907480</td>\n",
       "      <td>149.917857</td>\n",
       "      <td>11.345877</td>\n",
       "      <td>13.676912</td>\n",
       "    </tr>\n",
       "    <tr>\n",
       "      <td>min</td>\n",
       "      <td>0.000000</td>\n",
       "      <td>0.000000</td>\n",
       "      <td>-1.400000</td>\n",
       "      <td>0.000000</td>\n",
       "    </tr>\n",
       "    <tr>\n",
       "      <td>25%</td>\n",
       "      <td>0.480000</td>\n",
       "      <td>9.877769</td>\n",
       "      <td>6.968000</td>\n",
       "      <td>16.940001</td>\n",
       "    </tr>\n",
       "    <tr>\n",
       "      <td>50%</td>\n",
       "      <td>0.500000</td>\n",
       "      <td>46.868723</td>\n",
       "      <td>13.353139</td>\n",
       "      <td>34.740002</td>\n",
       "    </tr>\n",
       "    <tr>\n",
       "      <td>75%</td>\n",
       "      <td>67.599998</td>\n",
       "      <td>255.914298</td>\n",
       "      <td>23.717333</td>\n",
       "      <td>42.450001</td>\n",
       "    </tr>\n",
       "    <tr>\n",
       "      <td>max</td>\n",
       "      <td>164.206665</td>\n",
       "      <td>592.614391</td>\n",
       "      <td>43.799999</td>\n",
       "      <td>47.889999</td>\n",
       "    </tr>\n",
       "  </tbody>\n",
       "</table>\n",
       "</div>"
      ],
      "text/plain": [
       "       POTENCIA BOMBA CALOR CARLOS  POTENCIA TERMICA BOMBA CALOR CARLOS  \\\n",
       "count                 79285.000000                         79285.000000   \n",
       "mean                     33.616413                           132.154739   \n",
       "std                      43.907480                           149.917857   \n",
       "min                       0.000000                             0.000000   \n",
       "25%                       0.480000                             9.877769   \n",
       "50%                       0.500000                            46.868723   \n",
       "75%                      67.599998                           255.914298   \n",
       "max                     164.206665                           592.614391   \n",
       "\n",
       "       TEMPERATURA EXTERIOR  TEMPERATURA SALIDA BOMBA CALOR CARLOS  \n",
       "count          79285.000000                           79285.000000  \n",
       "mean              15.083257                              29.447289  \n",
       "std               11.345877                              13.676912  \n",
       "min               -1.400000                               0.000000  \n",
       "25%                6.968000                              16.940001  \n",
       "50%               13.353139                              34.740002  \n",
       "75%               23.717333                              42.450001  \n",
       "max               43.799999                              47.889999  "
      ]
     },
     "execution_count": 7,
     "metadata": {},
     "output_type": "execute_result"
    }
   ],
   "source": [
    "dataCarlos = data3[['POTENCIA BOMBA CALOR CARLOS', 'POTENCIA TERMICA BOMBA CALOR CARLOS', 'TEMPERATURA EXTERIOR',\n",
    "          'TEMPERATURA SALIDA BOMBA CALOR CARLOS']]\n",
    "dataCarlos.describe()"
   ]
  },
  {
   "cell_type": "markdown",
   "metadata": {},
   "source": [
    "Datos limpios de Carlos. "
   ]
  },
  {
   "cell_type": "code",
   "execution_count": 8,
   "metadata": {},
   "outputs": [
    {
     "data": {
      "text/html": [
       "<div>\n",
       "<style scoped>\n",
       "    .dataframe tbody tr th:only-of-type {\n",
       "        vertical-align: middle;\n",
       "    }\n",
       "\n",
       "    .dataframe tbody tr th {\n",
       "        vertical-align: top;\n",
       "    }\n",
       "\n",
       "    .dataframe thead th {\n",
       "        text-align: right;\n",
       "    }\n",
       "</style>\n",
       "<table border=\"1\" class=\"dataframe\">\n",
       "  <thead>\n",
       "    <tr style=\"text-align: right;\">\n",
       "      <th></th>\n",
       "      <th>POTENCIA BOMBA CALOR CARLOS</th>\n",
       "      <th>POTENCIA TERMICA BOMBA CALOR CARLOS</th>\n",
       "      <th>TEMPERATURA EXTERIOR</th>\n",
       "      <th>TEMPERATURA SALIDA BOMBA CALOR CARLOS</th>\n",
       "      <th>C_O_P BOMBA CALOR CARLOS</th>\n",
       "    </tr>\n",
       "  </thead>\n",
       "  <tbody>\n",
       "    <tr>\n",
       "      <td>count</td>\n",
       "      <td>79285.000000</td>\n",
       "      <td>79285.000000</td>\n",
       "      <td>79285.000000</td>\n",
       "      <td>79285.000000</td>\n",
       "      <td>79285.000000</td>\n",
       "    </tr>\n",
       "    <tr>\n",
       "      <td>mean</td>\n",
       "      <td>33.982880</td>\n",
       "      <td>134.031192</td>\n",
       "      <td>18.708072</td>\n",
       "      <td>29.768307</td>\n",
       "      <td>3.643607</td>\n",
       "    </tr>\n",
       "    <tr>\n",
       "      <td>std</td>\n",
       "      <td>43.766966</td>\n",
       "      <td>149.088492</td>\n",
       "      <td>8.605477</td>\n",
       "      <td>13.326841</td>\n",
       "      <td>0.377911</td>\n",
       "    </tr>\n",
       "    <tr>\n",
       "      <td>min</td>\n",
       "      <td>0.026667</td>\n",
       "      <td>0.251979</td>\n",
       "      <td>-1.400000</td>\n",
       "      <td>0.420000</td>\n",
       "      <td>1.785044</td>\n",
       "    </tr>\n",
       "    <tr>\n",
       "      <td>25%</td>\n",
       "      <td>0.480000</td>\n",
       "      <td>10.583311</td>\n",
       "      <td>11.900000</td>\n",
       "      <td>17.400000</td>\n",
       "      <td>3.643607</td>\n",
       "    </tr>\n",
       "    <tr>\n",
       "      <td>50%</td>\n",
       "      <td>0.500000</td>\n",
       "      <td>49.993504</td>\n",
       "      <td>18.708072</td>\n",
       "      <td>34.740002</td>\n",
       "      <td>3.643607</td>\n",
       "    </tr>\n",
       "    <tr>\n",
       "      <td>75%</td>\n",
       "      <td>67.599998</td>\n",
       "      <td>255.914298</td>\n",
       "      <td>23.717333</td>\n",
       "      <td>42.450001</td>\n",
       "      <td>3.660718</td>\n",
       "    </tr>\n",
       "    <tr>\n",
       "      <td>max</td>\n",
       "      <td>164.206665</td>\n",
       "      <td>592.614391</td>\n",
       "      <td>43.799999</td>\n",
       "      <td>47.889999</td>\n",
       "      <td>5.413333</td>\n",
       "    </tr>\n",
       "  </tbody>\n",
       "</table>\n",
       "</div>"
      ],
      "text/plain": [
       "       POTENCIA BOMBA CALOR CARLOS  POTENCIA TERMICA BOMBA CALOR CARLOS  \\\n",
       "count                 79285.000000                         79285.000000   \n",
       "mean                     33.982880                           134.031192   \n",
       "std                      43.766966                           149.088492   \n",
       "min                       0.026667                             0.251979   \n",
       "25%                       0.480000                            10.583311   \n",
       "50%                       0.500000                            49.993504   \n",
       "75%                      67.599998                           255.914298   \n",
       "max                     164.206665                           592.614391   \n",
       "\n",
       "       TEMPERATURA EXTERIOR  TEMPERATURA SALIDA BOMBA CALOR CARLOS  \\\n",
       "count          79285.000000                           79285.000000   \n",
       "mean              18.708072                              29.768307   \n",
       "std                8.605477                              13.326841   \n",
       "min               -1.400000                               0.420000   \n",
       "25%               11.900000                              17.400000   \n",
       "50%               18.708072                              34.740002   \n",
       "75%               23.717333                              42.450001   \n",
       "max               43.799999                              47.889999   \n",
       "\n",
       "       C_O_P BOMBA CALOR CARLOS  \n",
       "count              79285.000000  \n",
       "mean                   3.643607  \n",
       "std                    0.377911  \n",
       "min                    1.785044  \n",
       "25%                    3.643607  \n",
       "50%                    3.643607  \n",
       "75%                    3.660718  \n",
       "max                    5.413333  "
      ]
     },
     "execution_count": 8,
     "metadata": {},
     "output_type": "execute_result"
    }
   ],
   "source": [
    "dataCarlosLimpio = dataLimpia[['POTENCIA BOMBA CALOR CARLOS', 'POTENCIA TERMICA BOMBA CALOR CARLOS', \n",
    "                               'TEMPERATURA EXTERIOR', 'TEMPERATURA SALIDA BOMBA CALOR CARLOS', \n",
    "                               'C_O_P BOMBA CALOR CARLOS']]\n",
    "dataCarlosLimpio.describe()"
   ]
  },
  {
   "cell_type": "code",
   "execution_count": 9,
   "metadata": {},
   "outputs": [
    {
     "data": {
      "image/png": "[encoded data removed]",
      "text/plain": [
       "<Figure size 720x576 with 1 Axes>"
      ]
     },
     "metadata": {
      "needs_background": "light"
     },
     "output_type": "display_data"
    }
   ],
   "source": [
    "metodoCodo(dataCarlos)"
   ]
  },
  {
   "cell_type": "code",
   "execution_count": 10,
   "metadata": {},
   "outputs": [],
   "source": [
    "kmeans = KMeans(n_clusters = 4)\n",
    "kmeans.fit(dataCarlos)\n",
    "centroids = kmeans.cluster_centers_"
   ]
  },
  {
   "cell_type": "code",
   "execution_count": 11,
   "metadata": {},
   "outputs": [
    {
     "data": {
      "text/plain": [
       "array([[  2.36841878,  21.59505459,  15.93732251,  25.71302416],\n",
       "       [ 82.87622728, 303.00070049,  14.84141444,  35.1100374 ],\n",
       "       [122.32563908, 439.45389956,  11.39814803,  37.89792136],\n",
       "       [ 41.9650938 , 170.79340046,  14.24271345,  32.21805261]])"
      ]
     },
     "execution_count": 11,
     "metadata": {},
     "output_type": "execute_result"
    }
   ],
   "source": [
    "centroids"
   ]
  },
  {
   "cell_type": "code",
   "execution_count": 12,
   "metadata": {},
   "outputs": [],
   "source": [
    "dataTest = [[89.76533508, 334.5329885, 18.70807174, 44.03733444]] #datos buenos COP=3.79 linea 37760 dataset limpio\n",
    "dataTest2 = [[6.22666645050049, 181.58, 33.02, 13.9333333969116]] #datos malos COP=16.46, linea 22288 dataset sin limpiar"
   ]
  },
  {
   "cell_type": "code",
   "execution_count": 13,
   "metadata": {},
   "outputs": [
    {
     "data": {
      "text/plain": [
       "array([3], dtype=int32)"
      ]
     },
     "execution_count": 13,
     "metadata": {},
     "output_type": "execute_result"
    }
   ],
   "source": [
    "#El método predict me dice ese conjunto de datos a qué cluster pertenece(los puntos a dónde son más cercanos).\n",
    "clusters = kmeans.predict(dataTest2)\n",
    "clusters"
   ]
  },
  {
   "cell_type": "code",
   "execution_count": 14,
   "metadata": {},
   "outputs": [],
   "source": [
    "def diagnosticoFallosCarlos(cluster):\n",
    "    minPotenciaCarlos = 0.02 \n",
    "    maxPotenciaCarlos = 34\n",
    "    minPotenciaTermicaCarlos = 0.2 \n",
    "    maxPotenciaTermicaCarlos = 134\n",
    "    minTempExterior = 10\n",
    "    maxTempExterior = 28\n",
    "    minTempSalidaCarlos = 17\n",
    "    maxTempSalidaCarlos = 43\n",
    "    if not ((centroids[cluster][0] > minPotenciaCarlos) and (centroids[cluster][0] <= maxPotenciaCarlos)):\n",
    "        print('Revisar la POTENCIA BOMBA CALOR CARLOS.')\n",
    "    if not ((centroids[cluster][1] > minPotenciaTermicaCarlos) and (centroids[cluster][1] <= maxPotenciaTermicaCarlos)):\n",
    "        print('Revisar la POTENCIA TERMICA BOMBA CALOR CARLOS.')\n",
    "    if not ((centroids[cluster][2] > minTempExterior) and (centroids[cluster][2] <= maxTempExterior)):\n",
    "        print('Revisar la TEMPERATURA EXTERIOR.')\n",
    "    if not ((centroids[cluster][3] > minTempSalidaCarlos) and (centroids[cluster][3] <= maxTempSalidaCarlos)):\n",
    "        print('Revisar la TEMPERATURA SALIDA BOMBA CALOR CARLOS.')"
   ]
  },
  {
   "cell_type": "code",
   "execution_count": 15,
   "metadata": {},
   "outputs": [
    {
     "name": "stdout",
     "output_type": "stream",
     "text": [
      "Revisar la POTENCIA BOMBA CALOR CARLOS.\n",
      "Revisar la POTENCIA TERMICA BOMBA CALOR CARLOS.\n"
     ]
    }
   ],
   "source": [
    "for cluster in clusters:\n",
    "    diagnosticoFallosCarlos(cluster)"
   ]
  },
  {
   "cell_type": "markdown",
   "metadata": {},
   "source": [
    "## C_O_P Felipe"
   ]
  },
  {
   "cell_type": "markdown",
   "metadata": {},
   "source": [
    "#### Datos sin limpiar de Felipe."
   ]
  },
  {
   "cell_type": "code",
   "execution_count": 16,
   "metadata": {},
   "outputs": [
    {
     "data": {
      "text/html": [
       "<div>\n",
       "<style scoped>\n",
       "    .dataframe tbody tr th:only-of-type {\n",
       "        vertical-align: middle;\n",
       "    }\n",
       "\n",
       "    .dataframe tbody tr th {\n",
       "        vertical-align: top;\n",
       "    }\n",
       "\n",
       "    .dataframe thead th {\n",
       "        text-align: right;\n",
       "    }\n",
       "</style>\n",
       "<table border=\"1\" class=\"dataframe\">\n",
       "  <thead>\n",
       "    <tr style=\"text-align: right;\">\n",
       "      <th></th>\n",
       "      <th>POTENCIA BOMBA CALOR FELIPE</th>\n",
       "      <th>POTENCIA TERMICA BOMBA CALOR FELIPE</th>\n",
       "      <th>TEMPERATURA EXTERIOR</th>\n",
       "      <th>TEMPERATURA SALIDA BOMBA CALOR FELIPE</th>\n",
       "    </tr>\n",
       "  </thead>\n",
       "  <tbody>\n",
       "    <tr>\n",
       "      <td>count</td>\n",
       "      <td>79285.000000</td>\n",
       "      <td>79285.000000</td>\n",
       "      <td>79285.000000</td>\n",
       "      <td>79285.000000</td>\n",
       "    </tr>\n",
       "    <tr>\n",
       "      <td>mean</td>\n",
       "      <td>32.952675</td>\n",
       "      <td>114.991659</td>\n",
       "      <td>15.083257</td>\n",
       "      <td>27.899720</td>\n",
       "    </tr>\n",
       "    <tr>\n",
       "      <td>std</td>\n",
       "      <td>45.304465</td>\n",
       "      <td>145.959139</td>\n",
       "      <td>11.345877</td>\n",
       "      <td>13.937344</td>\n",
       "    </tr>\n",
       "    <tr>\n",
       "      <td>min</td>\n",
       "      <td>0.000000</td>\n",
       "      <td>0.000000</td>\n",
       "      <td>-1.400000</td>\n",
       "      <td>0.000000</td>\n",
       "    </tr>\n",
       "    <tr>\n",
       "      <td>25%</td>\n",
       "      <td>0.640000</td>\n",
       "      <td>4.233283</td>\n",
       "      <td>6.968000</td>\n",
       "      <td>14.794000</td>\n",
       "    </tr>\n",
       "    <tr>\n",
       "      <td>50%</td>\n",
       "      <td>0.700000</td>\n",
       "      <td>24.492828</td>\n",
       "      <td>13.353139</td>\n",
       "      <td>28.799999</td>\n",
       "    </tr>\n",
       "    <tr>\n",
       "      <td>75%</td>\n",
       "      <td>66.543999</td>\n",
       "      <td>227.389796</td>\n",
       "      <td>23.717333</td>\n",
       "      <td>41.980000</td>\n",
       "    </tr>\n",
       "    <tr>\n",
       "      <td>max</td>\n",
       "      <td>157.706665</td>\n",
       "      <td>592.815954</td>\n",
       "      <td>43.799999</td>\n",
       "      <td>47.889999</td>\n",
       "    </tr>\n",
       "  </tbody>\n",
       "</table>\n",
       "</div>"
      ],
      "text/plain": [
       "       POTENCIA BOMBA CALOR FELIPE  POTENCIA TERMICA BOMBA CALOR FELIPE  \\\n",
       "count                 79285.000000                         79285.000000   \n",
       "mean                     32.952675                           114.991659   \n",
       "std                      45.304465                           145.959139   \n",
       "min                       0.000000                             0.000000   \n",
       "25%                       0.640000                             4.233283   \n",
       "50%                       0.700000                            24.492828   \n",
       "75%                      66.543999                           227.389796   \n",
       "max                     157.706665                           592.815954   \n",
       "\n",
       "       TEMPERATURA EXTERIOR  TEMPERATURA SALIDA BOMBA CALOR FELIPE  \n",
       "count          79285.000000                           79285.000000  \n",
       "mean              15.083257                              27.899720  \n",
       "std               11.345877                              13.937344  \n",
       "min               -1.400000                               0.000000  \n",
       "25%                6.968000                              14.794000  \n",
       "50%               13.353139                              28.799999  \n",
       "75%               23.717333                              41.980000  \n",
       "max               43.799999                              47.889999  "
      ]
     },
     "execution_count": 16,
     "metadata": {},
     "output_type": "execute_result"
    }
   ],
   "source": [
    "dataFelipe = data3[['POTENCIA BOMBA CALOR FELIPE', 'POTENCIA TERMICA BOMBA CALOR FELIPE', 'TEMPERATURA EXTERIOR',\n",
    "          'TEMPERATURA SALIDA BOMBA CALOR FELIPE']]\n",
    "dataFelipe.describe()"
   ]
  },
  {
   "cell_type": "markdown",
   "metadata": {},
   "source": [
    "#### Datos limpios Felipe."
   ]
  },
  {
   "cell_type": "code",
   "execution_count": 17,
   "metadata": {},
   "outputs": [
    {
     "data": {
      "text/html": [
       "<div>\n",
       "<style scoped>\n",
       "    .dataframe tbody tr th:only-of-type {\n",
       "        vertical-align: middle;\n",
       "    }\n",
       "\n",
       "    .dataframe tbody tr th {\n",
       "        vertical-align: top;\n",
       "    }\n",
       "\n",
       "    .dataframe thead th {\n",
       "        text-align: right;\n",
       "    }\n",
       "</style>\n",
       "<table border=\"1\" class=\"dataframe\">\n",
       "  <thead>\n",
       "    <tr style=\"text-align: right;\">\n",
       "      <th></th>\n",
       "      <th>POTENCIA BOMBA CALOR FELIPE</th>\n",
       "      <th>POTENCIA TERMICA BOMBA CALOR FELIPE</th>\n",
       "      <th>TEMPERATURA EXTERIOR</th>\n",
       "      <th>TEMPERATURA SALIDA BOMBA CALOR FELIPE</th>\n",
       "      <th>C_O_P BOMBA CALOR FELIPE</th>\n",
       "    </tr>\n",
       "  </thead>\n",
       "  <tbody>\n",
       "    <tr>\n",
       "      <td>count</td>\n",
       "      <td>79285.000000</td>\n",
       "      <td>79285.000000</td>\n",
       "      <td>79285.000000</td>\n",
       "      <td>79285.000000</td>\n",
       "      <td>79285.000000</td>\n",
       "    </tr>\n",
       "    <tr>\n",
       "      <td>mean</td>\n",
       "      <td>33.311907</td>\n",
       "      <td>118.774293</td>\n",
       "      <td>18.708072</td>\n",
       "      <td>28.203867</td>\n",
       "      <td>3.356352</td>\n",
       "    </tr>\n",
       "    <tr>\n",
       "      <td>std</td>\n",
       "      <td>45.173629</td>\n",
       "      <td>144.449122</td>\n",
       "      <td>8.605477</td>\n",
       "      <td>13.629520</td>\n",
       "      <td>0.286132</td>\n",
       "    </tr>\n",
       "    <tr>\n",
       "      <td>min</td>\n",
       "      <td>0.040000</td>\n",
       "      <td>0.251979</td>\n",
       "      <td>-1.400000</td>\n",
       "      <td>1.166667</td>\n",
       "      <td>1.862510</td>\n",
       "    </tr>\n",
       "    <tr>\n",
       "      <td>25%</td>\n",
       "      <td>0.640000</td>\n",
       "      <td>5.291645</td>\n",
       "      <td>11.900000</td>\n",
       "      <td>15.220000</td>\n",
       "      <td>3.356352</td>\n",
       "    </tr>\n",
       "    <tr>\n",
       "      <td>50%</td>\n",
       "      <td>0.700000</td>\n",
       "      <td>29.078821</td>\n",
       "      <td>18.708072</td>\n",
       "      <td>28.799999</td>\n",
       "      <td>3.356352</td>\n",
       "    </tr>\n",
       "    <tr>\n",
       "      <td>75%</td>\n",
       "      <td>66.543999</td>\n",
       "      <td>227.389760</td>\n",
       "      <td>23.717333</td>\n",
       "      <td>41.980000</td>\n",
       "      <td>3.356352</td>\n",
       "    </tr>\n",
       "    <tr>\n",
       "      <td>max</td>\n",
       "      <td>157.706665</td>\n",
       "      <td>551.289112</td>\n",
       "      <td>43.799999</td>\n",
       "      <td>47.889999</td>\n",
       "      <td>4.776893</td>\n",
       "    </tr>\n",
       "  </tbody>\n",
       "</table>\n",
       "</div>"
      ],
      "text/plain": [
       "       POTENCIA BOMBA CALOR FELIPE  POTENCIA TERMICA BOMBA CALOR FELIPE  \\\n",
       "count                 79285.000000                         79285.000000   \n",
       "mean                     33.311907                           118.774293   \n",
       "std                      45.173629                           144.449122   \n",
       "min                       0.040000                             0.251979   \n",
       "25%                       0.640000                             5.291645   \n",
       "50%                       0.700000                            29.078821   \n",
       "75%                      66.543999                           227.389760   \n",
       "max                     157.706665                           551.289112   \n",
       "\n",
       "       TEMPERATURA EXTERIOR  TEMPERATURA SALIDA BOMBA CALOR FELIPE  \\\n",
       "count          79285.000000                           79285.000000   \n",
       "mean              18.708072                              28.203867   \n",
       "std                8.605477                              13.629520   \n",
       "min               -1.400000                               1.166667   \n",
       "25%               11.900000                              15.220000   \n",
       "50%               18.708072                              28.799999   \n",
       "75%               23.717333                              41.980000   \n",
       "max               43.799999                              47.889999   \n",
       "\n",
       "       C_O_P BOMBA CALOR FELIPE  \n",
       "count              79285.000000  \n",
       "mean                   3.356352  \n",
       "std                    0.286132  \n",
       "min                    1.862510  \n",
       "25%                    3.356352  \n",
       "50%                    3.356352  \n",
       "75%                    3.356352  \n",
       "max                    4.776893  "
      ]
     },
     "execution_count": 17,
     "metadata": {},
     "output_type": "execute_result"
    }
   ],
   "source": [
    "dataFelipeLimpio = dataLimpia[['POTENCIA BOMBA CALOR FELIPE', 'POTENCIA TERMICA BOMBA CALOR FELIPE', \n",
    "                               'TEMPERATURA EXTERIOR','TEMPERATURA SALIDA BOMBA CALOR FELIPE',\n",
    "                               'C_O_P BOMBA CALOR FELIPE']]\n",
    "dataFelipeLimpio.describe()"
   ]
  },
  {
   "cell_type": "code",
   "execution_count": 18,
   "metadata": {},
   "outputs": [
    {
     "data": {
      "image/png": "[encoded data removed]",
      "text/plain": [
       "<Figure size 720x576 with 1 Axes>"
      ]
     },
     "metadata": {
      "needs_background": "light"
     },
     "output_type": "display_data"
    }
   ],
   "source": [
    "metodoCodo(dataFelipe)"
   ]
  },
  {
   "cell_type": "code",
   "execution_count": 19,
   "metadata": {},
   "outputs": [],
   "source": [
    "kmeans = KMeans(n_clusters = 4)\n",
    "kmeans.fit(dataFelipe)\n",
    "centroids = kmeans.cluster_centers_"
   ]
  },
  {
   "cell_type": "code",
   "execution_count": 20,
   "metadata": {},
   "outputs": [
    {
     "data": {
      "text/plain": [
       "array([[126.65694677, 417.85186002,  12.57918496,  34.24718953],\n",
       "       [  3.37558383,  13.42841555,  15.38645247,  25.25983403],\n",
       "       [ 39.26794938, 155.38615074,  15.26949074,  30.51274812],\n",
       "       [ 84.0099791 , 287.23544508,  15.42350611,  32.08097912]])"
      ]
     },
     "execution_count": 20,
     "metadata": {},
     "output_type": "execute_result"
    }
   ],
   "source": [
    "centroids"
   ]
  },
  {
   "cell_type": "code",
   "execution_count": 22,
   "metadata": {},
   "outputs": [],
   "source": [
    "dataTest = [[0.800000011920929, 58.2585224375, 11.3281927108765, 31.7880001068115]] #datos buenos COP=3,35 linea 8 dataset limpio\n",
    "dataTest2 = [[7.25, 30.389183185546873, 11.696457862854, 36.1926651000977]] #datos malos COP=0.81, linea 2 dataset sin limpiar"
   ]
  },
  {
   "cell_type": "code",
   "execution_count": 23,
   "metadata": {},
   "outputs": [
    {
     "data": {
      "text/plain": [
       "array([1], dtype=int32)"
      ]
     },
     "execution_count": 23,
     "metadata": {},
     "output_type": "execute_result"
    }
   ],
   "source": [
    "#El método predict me dice ese conjunto de datos a qué cluster pertenece(los puntos a dónde son más cercanos).\n",
    "clusters = kmeans.predict(dataTest2)\n",
    "clusters"
   ]
  },
  {
   "cell_type": "code",
   "execution_count": 24,
   "metadata": {},
   "outputs": [],
   "source": [
    "def diagnosticoFallosFelipe(cluster):\n",
    "    minPotenciaFelipe = 0.04\n",
    "    maxPotenciaFelipe = 32\n",
    "    minPotenciaTermicaFelipe = 0.25\n",
    "    maxPotenciaTermicaFelipe = 114\n",
    "    minTempExterior = 10\n",
    "    maxTempExterior = 28\n",
    "    minTempSalidaFelipe = 15\n",
    "    maxTempSalidaFelipe = 42\n",
    "    if not ((centroids[cluster][0] > minPotenciaFelipe) and (centroids[cluster][0] <= maxPotenciaFelipe)):\n",
    "        print('Revisar la POTENCIA BOMBA CALOR FELIPE.')\n",
    "    if not ((centroids[cluster][1] > minPotenciaTermicaFelipe) and (centroids[cluster][1] <= maxPotenciaTermicaFelipe)):\n",
    "        print('Revisar la POTENCIA TERMICA BOMBA CALOR FELIPE.')\n",
    "    if not ((centroids[cluster][2] > minTempExterior) and (centroids[cluster][2] <= maxTempExterior)):\n",
    "        print('Revisar la TEMPERATURA EXTERIOR.')\n",
    "    if not ((centroids[cluster][3] > minTempSalidaFelipe) and (centroids[cluster][3] <= maxTempSalidaFelipe)):\n",
    "        print('Revisar la TEMPERATURA SALIDA BOMBA CALOR FELIPE.')"
   ]
  },
  {
   "cell_type": "code",
   "execution_count": 25,
   "metadata": {},
   "outputs": [],
   "source": [
    "for cluster in clusters:\n",
    "    diagnosticoFallosFelipe(cluster)"
   ]
  },
  {
   "cell_type": "markdown",
   "metadata": {},
   "source": [
    "## C_O_P Grupo Frío 1"
   ]
  },
  {
   "cell_type": "markdown",
   "metadata": {},
   "source": [
    "#### Datos sin limpiar Grupo Frío 1."
   ]
  },
  {
   "cell_type": "code",
   "execution_count": 26,
   "metadata": {},
   "outputs": [
    {
     "data": {
      "text/html": [
       "<div>\n",
       "<style scoped>\n",
       "    .dataframe tbody tr th:only-of-type {\n",
       "        vertical-align: middle;\n",
       "    }\n",
       "\n",
       "    .dataframe tbody tr th {\n",
       "        vertical-align: top;\n",
       "    }\n",
       "\n",
       "    .dataframe thead th {\n",
       "        text-align: right;\n",
       "    }\n",
       "</style>\n",
       "<table border=\"1\" class=\"dataframe\">\n",
       "  <thead>\n",
       "    <tr style=\"text-align: right;\">\n",
       "      <th></th>\n",
       "      <th>POTENCIA GRUPO FRÍO 1</th>\n",
       "      <th>POTENCIA TERMICA GRUPO FRIO 1</th>\n",
       "      <th>TEMPERATURA EXTERIOR</th>\n",
       "    </tr>\n",
       "  </thead>\n",
       "  <tbody>\n",
       "    <tr>\n",
       "      <td>count</td>\n",
       "      <td>79285.000000</td>\n",
       "      <td>79285.000000</td>\n",
       "      <td>79285.000000</td>\n",
       "    </tr>\n",
       "    <tr>\n",
       "      <td>mean</td>\n",
       "      <td>20.509645</td>\n",
       "      <td>95.445736</td>\n",
       "      <td>15.083257</td>\n",
       "    </tr>\n",
       "    <tr>\n",
       "      <td>std</td>\n",
       "      <td>26.984676</td>\n",
       "      <td>117.950837</td>\n",
       "      <td>11.345877</td>\n",
       "    </tr>\n",
       "    <tr>\n",
       "      <td>min</td>\n",
       "      <td>0.000000</td>\n",
       "      <td>0.000000</td>\n",
       "      <td>-1.400000</td>\n",
       "    </tr>\n",
       "    <tr>\n",
       "      <td>25%</td>\n",
       "      <td>0.100000</td>\n",
       "      <td>0.000000</td>\n",
       "      <td>6.968000</td>\n",
       "    </tr>\n",
       "    <tr>\n",
       "      <td>50%</td>\n",
       "      <td>0.100000</td>\n",
       "      <td>22.504057</td>\n",
       "      <td>13.353139</td>\n",
       "    </tr>\n",
       "    <tr>\n",
       "      <td>75%</td>\n",
       "      <td>38.900002</td>\n",
       "      <td>172.589200</td>\n",
       "      <td>23.717333</td>\n",
       "    </tr>\n",
       "    <tr>\n",
       "      <td>max</td>\n",
       "      <td>115.366669</td>\n",
       "      <td>2373.624850</td>\n",
       "      <td>43.799999</td>\n",
       "    </tr>\n",
       "  </tbody>\n",
       "</table>\n",
       "</div>"
      ],
      "text/plain": [
       "       POTENCIA GRUPO FRÍO 1  POTENCIA TERMICA GRUPO FRIO 1  \\\n",
       "count           79285.000000                   79285.000000   \n",
       "mean               20.509645                      95.445736   \n",
       "std                26.984676                     117.950837   \n",
       "min                 0.000000                       0.000000   \n",
       "25%                 0.100000                       0.000000   \n",
       "50%                 0.100000                      22.504057   \n",
       "75%                38.900002                     172.589200   \n",
       "max               115.366669                    2373.624850   \n",
       "\n",
       "       TEMPERATURA EXTERIOR  \n",
       "count          79285.000000  \n",
       "mean              15.083257  \n",
       "std               11.345877  \n",
       "min               -1.400000  \n",
       "25%                6.968000  \n",
       "50%               13.353139  \n",
       "75%               23.717333  \n",
       "max               43.799999  "
      ]
     },
     "execution_count": 26,
     "metadata": {},
     "output_type": "execute_result"
    }
   ],
   "source": [
    "dataFrio1 = data3[['POTENCIA GRUPO FRÍO 1', 'POTENCIA TERMICA GRUPO FRIO 1', 'TEMPERATURA EXTERIOR']]\n",
    "dataFrio1.describe()"
   ]
  },
  {
   "cell_type": "markdown",
   "metadata": {},
   "source": [
    "#### Datos limpios Grupo Frío 1. "
   ]
  },
  {
   "cell_type": "code",
   "execution_count": 27,
   "metadata": {},
   "outputs": [
    {
     "data": {
      "text/html": [
       "<div>\n",
       "<style scoped>\n",
       "    .dataframe tbody tr th:only-of-type {\n",
       "        vertical-align: middle;\n",
       "    }\n",
       "\n",
       "    .dataframe tbody tr th {\n",
       "        vertical-align: top;\n",
       "    }\n",
       "\n",
       "    .dataframe thead th {\n",
       "        text-align: right;\n",
       "    }\n",
       "</style>\n",
       "<table border=\"1\" class=\"dataframe\">\n",
       "  <thead>\n",
       "    <tr style=\"text-align: right;\">\n",
       "      <th></th>\n",
       "      <th>POTENCIA GRUPO FRÍO 1</th>\n",
       "      <th>POTENCIA TERMICA GRUPO FRIO 1</th>\n",
       "      <th>TEMPERATURA EXTERIOR</th>\n",
       "      <th>C_O_P MÁQUINA GRUPO FRÍO 1</th>\n",
       "    </tr>\n",
       "  </thead>\n",
       "  <tbody>\n",
       "    <tr>\n",
       "      <td>count</td>\n",
       "      <td>79285.000000</td>\n",
       "      <td>79285.000000</td>\n",
       "      <td>79285.000000</td>\n",
       "      <td>79285.000000</td>\n",
       "    </tr>\n",
       "    <tr>\n",
       "      <td>mean</td>\n",
       "      <td>20.752592</td>\n",
       "      <td>129.067983</td>\n",
       "      <td>18.708072</td>\n",
       "      <td>5.191439</td>\n",
       "    </tr>\n",
       "    <tr>\n",
       "      <td>std</td>\n",
       "      <td>26.858775</td>\n",
       "      <td>103.000351</td>\n",
       "      <td>8.605477</td>\n",
       "      <td>0.936038</td>\n",
       "    </tr>\n",
       "    <tr>\n",
       "      <td>min</td>\n",
       "      <td>0.006667</td>\n",
       "      <td>0.465200</td>\n",
       "      <td>-1.400000</td>\n",
       "      <td>3.410380</td>\n",
       "    </tr>\n",
       "    <tr>\n",
       "      <td>25%</td>\n",
       "      <td>0.100000</td>\n",
       "      <td>27.679411</td>\n",
       "      <td>11.900000</td>\n",
       "      <td>4.679659</td>\n",
       "    </tr>\n",
       "    <tr>\n",
       "      <td>50%</td>\n",
       "      <td>0.100000</td>\n",
       "      <td>129.067983</td>\n",
       "      <td>18.708072</td>\n",
       "      <td>5.191439</td>\n",
       "    </tr>\n",
       "    <tr>\n",
       "      <td>75%</td>\n",
       "      <td>38.900002</td>\n",
       "      <td>172.589200</td>\n",
       "      <td>23.717333</td>\n",
       "      <td>5.191439</td>\n",
       "    </tr>\n",
       "    <tr>\n",
       "      <td>max</td>\n",
       "      <td>95.966667</td>\n",
       "      <td>523.291850</td>\n",
       "      <td>43.799999</td>\n",
       "      <td>8.099650</td>\n",
       "    </tr>\n",
       "  </tbody>\n",
       "</table>\n",
       "</div>"
      ],
      "text/plain": [
       "       POTENCIA GRUPO FRÍO 1  POTENCIA TERMICA GRUPO FRIO 1  \\\n",
       "count           79285.000000                   79285.000000   \n",
       "mean               20.752592                     129.067983   \n",
       "std                26.858775                     103.000351   \n",
       "min                 0.006667                       0.465200   \n",
       "25%                 0.100000                      27.679411   \n",
       "50%                 0.100000                     129.067983   \n",
       "75%                38.900002                     172.589200   \n",
       "max                95.966667                     523.291850   \n",
       "\n",
       "       TEMPERATURA EXTERIOR  C_O_P MÁQUINA GRUPO FRÍO 1  \n",
       "count          79285.000000                79285.000000  \n",
       "mean              18.708072                    5.191439  \n",
       "std                8.605477                    0.936038  \n",
       "min               -1.400000                    3.410380  \n",
       "25%               11.900000                    4.679659  \n",
       "50%               18.708072                    5.191439  \n",
       "75%               23.717333                    5.191439  \n",
       "max               43.799999                    8.099650  "
      ]
     },
     "execution_count": 27,
     "metadata": {},
     "output_type": "execute_result"
    }
   ],
   "source": [
    "dataFrio1Limpio = dataLimpia[['POTENCIA GRUPO FRÍO 1', 'POTENCIA TERMICA GRUPO FRIO 1', 'TEMPERATURA EXTERIOR',\n",
    "                               'C_O_P MÁQUINA GRUPO FRÍO 1']]\n",
    "dataFrio1Limpio.describe()"
   ]
  },
  {
   "cell_type": "code",
   "execution_count": 28,
   "metadata": {},
   "outputs": [
    {
     "data": {
      "image/png": "[encoded data removed]",
      "text/plain": [
       "<Figure size 720x576 with 1 Axes>"
      ]
     },
     "metadata": {
      "needs_background": "light"
     },
     "output_type": "display_data"
    }
   ],
   "source": [
    "metodoCodo(dataFrio1)"
   ]
  },
  {
   "cell_type": "code",
   "execution_count": 29,
   "metadata": {},
   "outputs": [],
   "source": [
    "kmeans = KMeans(n_clusters = 4)\n",
    "kmeans.fit(dataFrio1)\n",
    "centroids = kmeans.cluster_centers_"
   ]
  },
  {
   "cell_type": "code",
   "execution_count": 30,
   "metadata": {},
   "outputs": [
    {
     "data": {
      "text/plain": [
       "array([[ 26.71149408, 143.94220544,  12.7354874 ],\n",
       "       [ 46.7527082 , 245.27859859,  15.84741728],\n",
       "       [  5.5567574 ,  10.80390677,  14.56151503],\n",
       "       [ 69.39363165, 344.25927163,  22.02354776]])"
      ]
     },
     "execution_count": 30,
     "metadata": {},
     "output_type": "execute_result"
    }
   ],
   "source": [
    "centroids"
   ]
  },
  {
   "cell_type": "code",
   "execution_count": 31,
   "metadata": {},
   "outputs": [],
   "source": [
    "dataTest = [[53.4799995422363, 220.09775, 23.5179996490479]] #datos buenos COP=4.08 linea 52830 dataset limpio\n",
    "dataTest2 = [[1.37666666507721, 12.037031828125, 0]] #datos malos COP=0.01, linea 44533 dataset sin limpiar"
   ]
  },
  {
   "cell_type": "code",
   "execution_count": 32,
   "metadata": {},
   "outputs": [
    {
     "data": {
      "text/plain": [
       "array([2], dtype=int32)"
      ]
     },
     "execution_count": 32,
     "metadata": {},
     "output_type": "execute_result"
    }
   ],
   "source": [
    "#El método predict me dice ese conjunto de datos a qué cluster pertenece(los puntos a dónde son más cercanos).\n",
    "clusters = kmeans.predict(dataTest2)\n",
    "clusters"
   ]
  },
  {
   "cell_type": "code",
   "execution_count": 33,
   "metadata": {},
   "outputs": [],
   "source": [
    "def diagnosticoFallosFrio1(cluster):\n",
    "    minPotenciaFrio1 = 0\n",
    "    maxPotenciaFrio1 = 20\n",
    "    minPotenciaTermicaFrio1 = 0\n",
    "    maxPotenciaTermicaFrio1 = 95\n",
    "    minTempExterior = 10.102595\n",
    "    maxTempExterior = 27.313549000000002\n",
    "    if not ((centroids[cluster][0] > minPotenciaFrio1) and (centroids[cluster][0] <= maxPotenciaFrio1)):\n",
    "        print('Revisar la POTENCIA GRUPO FRÍO 1.')\n",
    "    if not ((centroids[cluster][1] > minPotenciaTermicaFrio1) and (centroids[cluster][1] <= maxPotenciaTermicaFrio1)):\n",
    "        print('Revisar la POTENCIA TERMICA GRUPO FRIO 1.')\n",
    "    if not ((centroids[cluster][2] > minTempExterior) and (centroids[cluster][2] <= maxTempExterior)):\n",
    "        print('Revisar la TEMPERATURA EXTERIOR.')"
   ]
  },
  {
   "cell_type": "code",
   "execution_count": 34,
   "metadata": {},
   "outputs": [],
   "source": [
    "for cluster in clusters:\n",
    "    diagnosticoFallosFrio1(cluster)"
   ]
  },
  {
   "cell_type": "markdown",
   "metadata": {},
   "source": [
    "## C_O_P Grupo Frío 2"
   ]
  },
  {
   "cell_type": "markdown",
   "metadata": {},
   "source": [
    "#### Datos sin limpiar Grupo Frío 2."
   ]
  },
  {
   "cell_type": "code",
   "execution_count": 35,
   "metadata": {},
   "outputs": [
    {
     "data": {
      "text/html": [
       "<div>\n",
       "<style scoped>\n",
       "    .dataframe tbody tr th:only-of-type {\n",
       "        vertical-align: middle;\n",
       "    }\n",
       "\n",
       "    .dataframe tbody tr th {\n",
       "        vertical-align: top;\n",
       "    }\n",
       "\n",
       "    .dataframe thead th {\n",
       "        text-align: right;\n",
       "    }\n",
       "</style>\n",
       "<table border=\"1\" class=\"dataframe\">\n",
       "  <thead>\n",
       "    <tr style=\"text-align: right;\">\n",
       "      <th></th>\n",
       "      <th>POTENCIA GRUPO FRÍO 2</th>\n",
       "      <th>POTENCIA TERMICA GRUPO FRIO 2</th>\n",
       "      <th>TEMPERATURA EXTERIOR</th>\n",
       "    </tr>\n",
       "  </thead>\n",
       "  <tbody>\n",
       "    <tr>\n",
       "      <td>count</td>\n",
       "      <td>79285.000000</td>\n",
       "      <td>79285.000000</td>\n",
       "      <td>79285.000000</td>\n",
       "    </tr>\n",
       "    <tr>\n",
       "      <td>mean</td>\n",
       "      <td>27.022629</td>\n",
       "      <td>97.791279</td>\n",
       "      <td>15.083257</td>\n",
       "    </tr>\n",
       "    <tr>\n",
       "      <td>std</td>\n",
       "      <td>28.751257</td>\n",
       "      <td>117.645826</td>\n",
       "      <td>11.345877</td>\n",
       "    </tr>\n",
       "    <tr>\n",
       "      <td>min</td>\n",
       "      <td>0.000000</td>\n",
       "      <td>0.000000</td>\n",
       "      <td>-1.400000</td>\n",
       "    </tr>\n",
       "    <tr>\n",
       "      <td>25%</td>\n",
       "      <td>0.100000</td>\n",
       "      <td>0.000000</td>\n",
       "      <td>6.968000</td>\n",
       "    </tr>\n",
       "    <tr>\n",
       "      <td>50%</td>\n",
       "      <td>24.876667</td>\n",
       "      <td>28.784257</td>\n",
       "      <td>13.353139</td>\n",
       "    </tr>\n",
       "    <tr>\n",
       "      <td>75%</td>\n",
       "      <td>52.560001</td>\n",
       "      <td>165.611200</td>\n",
       "      <td>23.717333</td>\n",
       "    </tr>\n",
       "    <tr>\n",
       "      <td>max</td>\n",
       "      <td>93.536667</td>\n",
       "      <td>412.806886</td>\n",
       "      <td>43.799999</td>\n",
       "    </tr>\n",
       "  </tbody>\n",
       "</table>\n",
       "</div>"
      ],
      "text/plain": [
       "       POTENCIA GRUPO FRÍO 2  POTENCIA TERMICA GRUPO FRIO 2  \\\n",
       "count           79285.000000                   79285.000000   \n",
       "mean               27.022629                      97.791279   \n",
       "std                28.751257                     117.645826   \n",
       "min                 0.000000                       0.000000   \n",
       "25%                 0.100000                       0.000000   \n",
       "50%                24.876667                      28.784257   \n",
       "75%                52.560001                     165.611200   \n",
       "max                93.536667                     412.806886   \n",
       "\n",
       "       TEMPERATURA EXTERIOR  \n",
       "count          79285.000000  \n",
       "mean              15.083257  \n",
       "std               11.345877  \n",
       "min               -1.400000  \n",
       "25%                6.968000  \n",
       "50%               13.353139  \n",
       "75%               23.717333  \n",
       "max               43.799999  "
      ]
     },
     "execution_count": 35,
     "metadata": {},
     "output_type": "execute_result"
    }
   ],
   "source": [
    "dataFrio2 = data3[['POTENCIA GRUPO FRÍO 2', 'POTENCIA TERMICA GRUPO FRIO 2', 'TEMPERATURA EXTERIOR']]\n",
    "dataFrio2.describe()"
   ]
  },
  {
   "cell_type": "markdown",
   "metadata": {},
   "source": [
    "#### Datos limpios Grupo Frío 2. "
   ]
  },
  {
   "cell_type": "code",
   "execution_count": 36,
   "metadata": {},
   "outputs": [
    {
     "data": {
      "text/html": [
       "<div>\n",
       "<style scoped>\n",
       "    .dataframe tbody tr th:only-of-type {\n",
       "        vertical-align: middle;\n",
       "    }\n",
       "\n",
       "    .dataframe tbody tr th {\n",
       "        vertical-align: top;\n",
       "    }\n",
       "\n",
       "    .dataframe thead th {\n",
       "        text-align: right;\n",
       "    }\n",
       "</style>\n",
       "<table border=\"1\" class=\"dataframe\">\n",
       "  <thead>\n",
       "    <tr style=\"text-align: right;\">\n",
       "      <th></th>\n",
       "      <th>POTENCIA GRUPO FRÍO 2</th>\n",
       "      <th>POTENCIA TERMICA GRUPO FRIO 2</th>\n",
       "      <th>TEMPERATURA EXTERIOR</th>\n",
       "      <th>C_O_P MÁQUINA GRUPO FRÍO 2</th>\n",
       "    </tr>\n",
       "  </thead>\n",
       "  <tbody>\n",
       "    <tr>\n",
       "      <td>count</td>\n",
       "      <td>79285.000000</td>\n",
       "      <td>79285.000000</td>\n",
       "      <td>79285.000000</td>\n",
       "      <td>79285.000000</td>\n",
       "    </tr>\n",
       "    <tr>\n",
       "      <td>mean</td>\n",
       "      <td>27.399312</td>\n",
       "      <td>190.173695</td>\n",
       "      <td>18.708072</td>\n",
       "      <td>5.319872</td>\n",
       "    </tr>\n",
       "    <tr>\n",
       "      <td>std</td>\n",
       "      <td>28.573689</td>\n",
       "      <td>69.326992</td>\n",
       "      <td>8.605477</td>\n",
       "      <td>1.565451</td>\n",
       "    </tr>\n",
       "    <tr>\n",
       "      <td>min</td>\n",
       "      <td>0.006667</td>\n",
       "      <td>0.523345</td>\n",
       "      <td>-1.400000</td>\n",
       "      <td>3.171449</td>\n",
       "    </tr>\n",
       "    <tr>\n",
       "      <td>25%</td>\n",
       "      <td>0.100000</td>\n",
       "      <td>159.738050</td>\n",
       "      <td>11.900000</td>\n",
       "      <td>4.400816</td>\n",
       "    </tr>\n",
       "    <tr>\n",
       "      <td>50%</td>\n",
       "      <td>26.000000</td>\n",
       "      <td>190.173695</td>\n",
       "      <td>18.708072</td>\n",
       "      <td>5.319872</td>\n",
       "    </tr>\n",
       "    <tr>\n",
       "      <td>75%</td>\n",
       "      <td>52.560001</td>\n",
       "      <td>190.173695</td>\n",
       "      <td>23.717333</td>\n",
       "      <td>5.319872</td>\n",
       "    </tr>\n",
       "    <tr>\n",
       "      <td>max</td>\n",
       "      <td>93.536667</td>\n",
       "      <td>412.806886</td>\n",
       "      <td>43.799999</td>\n",
       "      <td>10.114581</td>\n",
       "    </tr>\n",
       "  </tbody>\n",
       "</table>\n",
       "</div>"
      ],
      "text/plain": [
       "       POTENCIA GRUPO FRÍO 2  POTENCIA TERMICA GRUPO FRIO 2  \\\n",
       "count           79285.000000                   79285.000000   \n",
       "mean               27.399312                     190.173695   \n",
       "std                28.573689                      69.326992   \n",
       "min                 0.006667                       0.523345   \n",
       "25%                 0.100000                     159.738050   \n",
       "50%                26.000000                     190.173695   \n",
       "75%                52.560001                     190.173695   \n",
       "max                93.536667                     412.806886   \n",
       "\n",
       "       TEMPERATURA EXTERIOR  C_O_P MÁQUINA GRUPO FRÍO 2  \n",
       "count          79285.000000                79285.000000  \n",
       "mean              18.708072                    5.319872  \n",
       "std                8.605477                    1.565451  \n",
       "min               -1.400000                    3.171449  \n",
       "25%               11.900000                    4.400816  \n",
       "50%               18.708072                    5.319872  \n",
       "75%               23.717333                    5.319872  \n",
       "max               43.799999                   10.114581  "
      ]
     },
     "execution_count": 36,
     "metadata": {},
     "output_type": "execute_result"
    }
   ],
   "source": [
    "dataFrio2Limpio = dataLimpia[['POTENCIA GRUPO FRÍO 2', 'POTENCIA TERMICA GRUPO FRIO 2', 'TEMPERATURA EXTERIOR',\n",
    "                               'C_O_P MÁQUINA GRUPO FRÍO 2']]\n",
    "dataFrio2Limpio.describe()"
   ]
  },
  {
   "cell_type": "code",
   "execution_count": 37,
   "metadata": {},
   "outputs": [
    {
     "data": {
      "image/png": "[encoded data removed]",
      "text/plain": [
       "<Figure size 720x576 with 1 Axes>"
      ]
     },
     "metadata": {
      "needs_background": "light"
     },
     "output_type": "display_data"
    }
   ],
   "source": [
    "metodoCodo(dataFrio2)"
   ]
  },
  {
   "cell_type": "code",
   "execution_count": 38,
   "metadata": {},
   "outputs": [],
   "source": [
    "kmeans = KMeans(n_clusters = 4)\n",
    "kmeans.fit(dataFrio2)\n",
    "centroids = kmeans.cluster_centers_"
   ]
  },
  {
   "cell_type": "code",
   "execution_count": 39,
   "metadata": {},
   "outputs": [
    {
     "data": {
      "text/plain": [
       "array([[  4.2605467 ,   1.82211187,  13.19036002],\n",
       "       [ 54.06548508, 227.64676692,  16.74666853],\n",
       "       [ 39.94826147, 123.48842976,  14.91798045],\n",
       "       [ 71.13601291, 326.18714106,  21.65540997]])"
      ]
     },
     "execution_count": 39,
     "metadata": {},
     "output_type": "execute_result"
    }
   ],
   "source": [
    "centroids"
   ]
  },
  {
   "cell_type": "code",
   "execution_count": 40,
   "metadata": {},
   "outputs": [],
   "source": [
    "dataTest = [[22.1800003051758, 83.910431828125, 18.7080717440297]] #datos buenos COP=3.80 linea 41825 dataset limpio\n",
    "dataTest2 = [[0.100000001490116, 377.33531365625, 0]] #datos malos COP=27.95, linea 66628 dataset sin limpiar"
   ]
  },
  {
   "cell_type": "code",
   "execution_count": 41,
   "metadata": {},
   "outputs": [
    {
     "data": {
      "text/plain": [
       "array([3], dtype=int32)"
      ]
     },
     "execution_count": 41,
     "metadata": {},
     "output_type": "execute_result"
    }
   ],
   "source": [
    "#El método predict me dice ese conjunto de datos a qué cluster pertenece(los puntos a dónde son más cercanos).\n",
    "clusters = kmeans.predict(dataTest2)\n",
    "clusters"
   ]
  },
  {
   "cell_type": "code",
   "execution_count": 42,
   "metadata": {},
   "outputs": [],
   "source": [
    "def diagnosticoFallosFrio2(cluster):\n",
    "    minPotenciaFrio2 = 0\n",
    "    maxPotenciaFrio2 = 27\n",
    "    minPotenciaTermicaFrio2 = 0\n",
    "    maxPotenciaTermicaFrio2 = 97\n",
    "    minTempExterior = 10.102595\n",
    "    maxTempExterior = 27.313549000000002\n",
    "    if not ((centroids[cluster][0] > minPotenciaFrio2) and (centroids[cluster][0] <= maxPotenciaFrio2)):\n",
    "        print('Revisar la POTENCIA GRUPO FRÍO 2.')\n",
    "    if not ((centroids[cluster][1] > minPotenciaTermicaFrio2) and (centroids[cluster][1] <= maxPotenciaTermicaFrio2)):\n",
    "        print('Revisar la POTENCIA TERMICA GRUPO FRIO 2.')\n",
    "    if not ((centroids[cluster][2] > minTempExterior) and (centroids[cluster][2] <= maxTempExterior)):\n",
    "        print('Revisar la TEMPERATURA EXTERIOR.')"
   ]
  },
  {
   "cell_type": "code",
   "execution_count": 43,
   "metadata": {},
   "outputs": [
    {
     "name": "stdout",
     "output_type": "stream",
     "text": [
      "Revisar la POTENCIA GRUPO FRÍO 2.\n",
      "Revisar la POTENCIA TERMICA GRUPO FRIO 2.\n"
     ]
    }
   ],
   "source": [
    "for cluster in clusters:\n",
    "    diagnosticoFallosFrio2(cluster)"
   ]
  }
 ],
 "metadata": {
  "kernelspec": {
   "display_name": "Python 3",
   "language": "python",
   "name": "python3"
  },
  "language_info": {
   "codemirror_mode": {
    "name": "ipython",
    "version": 3
   },
   "file_extension": ".py",
   "mimetype": "text/x-python",
   "name": "python",
   "nbconvert_exporter": "python",
   "pygments_lexer": "ipython3",
   "version": "3.7.4"
  }
 },
 "nbformat": 4,
 "nbformat_minor": 2
}
